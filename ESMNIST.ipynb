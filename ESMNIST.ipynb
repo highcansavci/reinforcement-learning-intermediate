{
  "nbformat": 4,
  "nbformat_minor": 0,
  "metadata": {
    "colab": {
      "provenance": []
    },
    "kernelspec": {
      "name": "python3",
      "display_name": "Python 3"
    },
    "language_info": {
      "name": "python"
    }
  },
  "cells": [
    {
      "cell_type": "code",
      "execution_count": 15,
      "metadata": {
        "id": "azohfE7CnguL"
      },
      "outputs": [],
      "source": [
        "import numpy as np\n",
        "import pandas as pd\n",
        "import matplotlib.pyplot as plt\n",
        "from datetime import datetime\n",
        "import multiprocessing\n",
        "from multiprocessing.dummy import Pool"
      ]
    },
    {
      "cell_type": "code",
      "source": [
        "pool = Pool(4)"
      ],
      "metadata": {
        "id": "I8VWX_BKnumA"
      },
      "execution_count": 16,
      "outputs": []
    },
    {
      "cell_type": "code",
      "source": [
        "df = pd.read_csv('train.csv')"
      ],
      "metadata": {
        "id": "ZW7w7hnan2MM"
      },
      "execution_count": 17,
      "outputs": []
    },
    {
      "cell_type": "code",
      "source": [
        "data = df.values.astype(np.float32)\n",
        "np.random.shuffle(data)"
      ],
      "metadata": {
        "id": "R8MH13YSoDcR"
      },
      "execution_count": 18,
      "outputs": []
    },
    {
      "cell_type": "code",
      "source": [
        "X = data[:, 1:] / 255.\n",
        "Y = data[:, 0].astype(np.int32)"
      ],
      "metadata": {
        "id": "Oo6GWqKcoW5B"
      },
      "execution_count": 19,
      "outputs": []
    },
    {
      "cell_type": "code",
      "source": [
        "Xtrain = X[:-1000]\n",
        "Ytrain = Y[:-1000]\n",
        "Xtest  = X[-1000:]\n",
        "Ytest  = Y[-1000:]"
      ],
      "metadata": {
        "id": "5D7UXZu9ogFR"
      },
      "execution_count": 20,
      "outputs": []
    },
    {
      "cell_type": "code",
      "source": [
        "D = Xtrain.shape[1]\n",
        "M = 100\n",
        "K = len(set(Y))"
      ],
      "metadata": {
        "id": "dXhHNPeDojKW"
      },
      "execution_count": 21,
      "outputs": []
    },
    {
      "cell_type": "code",
      "source": [
        "def softmax(a):\n",
        "  c = np.max(a, axis=1, keepdims=True)\n",
        "  e = np.exp(a - c)\n",
        "  return e / e.sum(axis=-1, keepdims=True)"
      ],
      "metadata": {
        "id": "-wuyKbmRolXS"
      },
      "execution_count": 22,
      "outputs": []
    },
    {
      "cell_type": "code",
      "source": [
        "def relu(x):\n",
        "  return x * (x > 0)"
      ],
      "metadata": {
        "id": "EAu2BLSmo0Ta"
      },
      "execution_count": 23,
      "outputs": []
    },
    {
      "cell_type": "code",
      "source": [
        "def log_likelihood(Y, P):\n",
        "  N = len(Y)\n",
        "  return np.log(P[np.arange(N), Y]).mean()"
      ],
      "metadata": {
        "id": "suQGLzIDo4RE"
      },
      "execution_count": 24,
      "outputs": []
    },
    {
      "cell_type": "code",
      "source": [
        "class ANN:\n",
        "  def __init__(self, D, M, K):\n",
        "    self.D = D\n",
        "    self.M = M\n",
        "    self.K = K\n",
        "  def init(self):\n",
        "    D, M, K = self.D, self.M, self.K\n",
        "    self.W1 = np.random.randn(D, M) / np.sqrt(D)\n",
        "    self.b1 = np.zeros(M)\n",
        "    self.W2 = np.random.randn(M, K) / np.sqrt(M)\n",
        "    self.b2 = np.zeros(K)\n",
        "  def forward(self, X):\n",
        "    Z = np.tanh(X.dot(self.W1) + self.b1)\n",
        "    return softmax(Z.dot(self.W2) + self.b2)\n",
        "  def score(self, X, Y):\n",
        "    P = np.argmax(self.forward(X), axis=1)\n",
        "    return np.mean(Y == P)\n",
        "  def get_params(self):\n",
        "    return np.concatenate([self.W1.flatten(), self.b1,\n",
        "                           self.W2.flatten(),\n",
        "                           self.b2])\n",
        "  def set_params(self, params):\n",
        "    D, M, K = self.D, self.M, self.K\n",
        "    self.W1 = params[:D * M].reshape(D, M)\n",
        "    self.b1 = params[D * M:D * M + M]\n",
        "    self.W2 = params[D * M + M:D * M + M + M * K].reshape(M, K)\n",
        "    self.b2 = params[-K:]"
      ],
      "metadata": {
        "id": "97g5p2tkpHCR"
      },
      "execution_count": 25,
      "outputs": []
    },
    {
      "cell_type": "code",
      "source": [
        "def evolution_strategy(f, population_size, sigma, lr, initial_params, num_iters):\n",
        "  num_params = len(initial_params)\n",
        "  reward_per_iteration = np.zeros(num_iters)\n",
        "  params = initial_params\n",
        "  for t in range(num_iters):\n",
        "    t0 = datetime.now()\n",
        "    noises = np.random.randn(population_size, num_params)\n",
        "    rewards = pool.map(f, [params + sigma*noises[j] for j in range(population_size)])\n",
        "    rewards = np.array(rewards)\n",
        "\n",
        "    mean = rewards.mean()\n",
        "    advantage = (rewards - mean) / rewards.std()\n",
        "    reward_per_iteration[t] = mean\n",
        "    params = params + lr / (population_size * sigma) * np.dot(noises.T, advantage)\n",
        "    print(\"Iter:\", t, \"Avg Reward:\", mean, \"Duration:\", (datetime.now() - t0))\n",
        "\n",
        "  return params, reward_per_iteration"
      ],
      "metadata": {
        "id": "gAw7YHSWqkt4"
      },
      "execution_count": 29,
      "outputs": []
    },
    {
      "cell_type": "code",
      "source": [
        "def reward_function(params):\n",
        "  model = ANN(D, M, K)\n",
        "  model.set_params(params)\n",
        "  return model.score(Xtrain, Ytrain)"
      ],
      "metadata": {
        "id": "1YgOK8RSrxwR"
      },
      "execution_count": 30,
      "outputs": []
    },
    {
      "cell_type": "code",
      "source": [
        "model = ANN(D, M, K)\n",
        "model.init()\n",
        "params = model.get_params()\n",
        "best_params, rewards = evolution_strategy(\n",
        "  f=reward_function,\n",
        "  population_size=50,\n",
        "  sigma=0.1,\n",
        "  lr=0.2,\n",
        "  initial_params=params,\n",
        "  num_iters=600,\n",
        ")\n",
        "\n",
        "# plot the rewards per iteration\n",
        "plt.plot(rewards)\n",
        "plt.show()\n",
        "\n",
        "# final train and test accuracy\n",
        "model.set_params(best_params)\n",
        "print(\"Train score:\", model.score(Xtrain, Ytrain))\n",
        "print(\"Test score:\", model.score(Xtest, Ytest))"
      ],
      "metadata": {
        "colab": {
          "base_uri": "https://localhost:8080/"
        },
        "id": "3AgHLiZ0r-0G",
        "outputId": "22704f3c-7113-4412-940b-3a42986d8dae"
      },
      "execution_count": null,
      "outputs": [
        {
          "output_type": "stream",
          "name": "stdout",
          "text": [
            "Iter: 0 Avg Reward: 0.08930829268292681 Duration: 0:00:38.400958\n",
            "Iter: 1 Avg Reward: 0.13219853658536584 Duration: 0:00:35.674836\n",
            "Iter: 2 Avg Reward: 0.16495853658536583 Duration: 0:00:38.147350\n",
            "Iter: 3 Avg Reward: 0.21053756097560977 Duration: 0:00:35.995849\n",
            "Iter: 4 Avg Reward: 0.23547853658536588 Duration: 0:00:37.679075\n",
            "Iter: 5 Avg Reward: 0.2603985365853659 Duration: 0:00:36.594103\n",
            "Iter: 6 Avg Reward: 0.286880487804878 Duration: 0:00:38.430512\n",
            "Iter: 7 Avg Reward: 0.29825121951219513 Duration: 0:00:35.740210\n",
            "Iter: 8 Avg Reward: 0.30247999999999997 Duration: 0:00:37.236367\n",
            "Iter: 9 Avg Reward: 0.3511346341463415 Duration: 0:00:35.494504\n",
            "Iter: 10 Avg Reward: 0.3761190243902439 Duration: 0:00:37.118562\n",
            "Iter: 11 Avg Reward: 0.4099478048780487 Duration: 0:00:37.977372\n",
            "Iter: 12 Avg Reward: 0.4414424390243903 Duration: 0:00:37.054806\n",
            "Iter: 13 Avg Reward: 0.46046682926829263 Duration: 0:00:38.568333\n",
            "Iter: 14 Avg Reward: 0.4808141463414634 Duration: 0:00:38.891797\n",
            "Iter: 15 Avg Reward: 0.5060043902439024 Duration: 0:00:37.293886\n",
            "Iter: 16 Avg Reward: 0.5271453658536586 Duration: 0:00:36.588307\n",
            "Iter: 17 Avg Reward: 0.5313190243902439 Duration: 0:00:38.029619\n",
            "Iter: 18 Avg Reward: 0.5362985365853659 Duration: 0:00:34.765006\n"
          ]
        }
      ]
    },
    {
      "cell_type": "code",
      "source": [],
      "metadata": {
        "id": "-tFbLrNNuQy0"
      },
      "execution_count": null,
      "outputs": []
    }
  ]
}