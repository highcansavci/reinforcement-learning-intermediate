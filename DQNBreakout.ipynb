{
  "cells": [
    {
      "cell_type": "code",
      "execution_count": 22,
      "metadata": {
        "colab": {
          "base_uri": "https://localhost:8080/",
          "height": 310
        },
        "id": "gWPyBgUXJkpK",
        "outputId": "d77d67c4-a7be-4b23-fbc3-0295e6098265"
      },
      "outputs": [
        {
          "output_type": "stream",
          "name": "stdout",
          "text": [
            "Collecting gym==0.25.2\n",
            "  Using cached gym-0.25.2-py3-none-any.whl\n",
            "Requirement already satisfied: numpy>=1.18.0 in /usr/local/lib/python3.10/dist-packages (from gym==0.25.2) (1.22.4)\n",
            "Requirement already satisfied: cloudpickle>=1.2.0 in /usr/local/lib/python3.10/dist-packages (from gym==0.25.2) (2.2.1)\n",
            "Requirement already satisfied: gym-notices>=0.0.4 in /usr/local/lib/python3.10/dist-packages (from gym==0.25.2) (0.0.8)\n",
            "Installing collected packages: gym\n",
            "  Attempting uninstall: gym\n",
            "    Found existing installation: gym 0.25.0\n",
            "    Uninstalling gym-0.25.0:\n",
            "      Successfully uninstalled gym-0.25.0\n",
            "Successfully installed gym-0.25.2\n"
          ]
        },
        {
          "output_type": "display_data",
          "data": {
            "application/vnd.colab-display-data+json": {
              "pip_warning": {
                "packages": [
                  "gym"
                ]
              }
            }
          },
          "metadata": {}
        }
      ],
      "source": [
        "!pip install --upgrade gym==0.25.2"
      ]
    },
    {
      "cell_type": "code",
      "execution_count": 23,
      "metadata": {
        "colab": {
          "base_uri": "https://localhost:8080/",
          "height": 513
        },
        "id": "4bZ-ns1rtlm3",
        "outputId": "fe46f809-bc01-4069-95d3-d5a4618e2d94"
      },
      "outputs": [
        {
          "output_type": "stream",
          "name": "stdout",
          "text": [
            "Collecting gym[accept-rom-license,atari]==0.25.0\n",
            "  Using cached gym-0.25.0-py3-none-any.whl\n",
            "Requirement already satisfied: numpy>=1.18.0 in /usr/local/lib/python3.10/dist-packages (from gym[accept-rom-license,atari]==0.25.0) (1.22.4)\n",
            "Requirement already satisfied: cloudpickle>=1.2.0 in /usr/local/lib/python3.10/dist-packages (from gym[accept-rom-license,atari]==0.25.0) (2.2.1)\n",
            "Requirement already satisfied: gym-notices>=0.0.4 in /usr/local/lib/python3.10/dist-packages (from gym[accept-rom-license,atari]==0.25.0) (0.0.8)\n",
            "Requirement already satisfied: autorom[accept-rom-license]~=0.4.2 in /usr/local/lib/python3.10/dist-packages (from gym[accept-rom-license,atari]==0.25.0) (0.4.2)\n",
            "Requirement already satisfied: ale-py~=0.7.5 in /usr/local/lib/python3.10/dist-packages (from gym[accept-rom-license,atari]==0.25.0) (0.7.5)\n",
            "Requirement already satisfied: importlib-resources in /usr/local/lib/python3.10/dist-packages (from ale-py~=0.7.5->gym[accept-rom-license,atari]==0.25.0) (6.0.0)\n",
            "Requirement already satisfied: click in /usr/local/lib/python3.10/dist-packages (from autorom[accept-rom-license]~=0.4.2->gym[accept-rom-license,atari]==0.25.0) (8.1.6)\n",
            "Requirement already satisfied: requests in /usr/local/lib/python3.10/dist-packages (from autorom[accept-rom-license]~=0.4.2->gym[accept-rom-license,atari]==0.25.0) (2.27.1)\n",
            "Requirement already satisfied: tqdm in /usr/local/lib/python3.10/dist-packages (from autorom[accept-rom-license]~=0.4.2->gym[accept-rom-license,atari]==0.25.0) (4.65.0)\n",
            "Requirement already satisfied: AutoROM.accept-rom-license in /usr/local/lib/python3.10/dist-packages (from autorom[accept-rom-license]~=0.4.2->gym[accept-rom-license,atari]==0.25.0) (0.6.1)\n",
            "Requirement already satisfied: urllib3<1.27,>=1.21.1 in /usr/local/lib/python3.10/dist-packages (from requests->autorom[accept-rom-license]~=0.4.2->gym[accept-rom-license,atari]==0.25.0) (1.26.16)\n",
            "Requirement already satisfied: certifi>=2017.4.17 in /usr/local/lib/python3.10/dist-packages (from requests->autorom[accept-rom-license]~=0.4.2->gym[accept-rom-license,atari]==0.25.0) (2023.7.22)\n",
            "Requirement already satisfied: charset-normalizer~=2.0.0 in /usr/local/lib/python3.10/dist-packages (from requests->autorom[accept-rom-license]~=0.4.2->gym[accept-rom-license,atari]==0.25.0) (2.0.12)\n",
            "Requirement already satisfied: idna<4,>=2.5 in /usr/local/lib/python3.10/dist-packages (from requests->autorom[accept-rom-license]~=0.4.2->gym[accept-rom-license,atari]==0.25.0) (3.4)\n",
            "Installing collected packages: gym\n",
            "  Attempting uninstall: gym\n",
            "    Found existing installation: gym 0.25.2\n",
            "    Uninstalling gym-0.25.2:\n",
            "      Successfully uninstalled gym-0.25.2\n",
            "Successfully installed gym-0.25.0\n"
          ]
        },
        {
          "output_type": "display_data",
          "data": {
            "application/vnd.colab-display-data+json": {
              "pip_warning": {
                "packages": [
                  "gym"
                ]
              }
            }
          },
          "metadata": {}
        }
      ],
      "source": [
        "!pip install gym[atari,accept-rom-license]==0.25.0"
      ]
    },
    {
      "cell_type": "code",
      "execution_count": 24,
      "metadata": {
        "id": "X-RCccMCN3pi"
      },
      "outputs": [],
      "source": [
        "import torch\n",
        "import torch.optim as optim\n",
        "import torch.nn as nn\n",
        "import torch.nn.functional as F\n",
        "import matplotlib.pyplot as plt\n",
        "import gym\n",
        "import numpy as np\n",
        "from collections import deque\n",
        "import torchvision\n",
        "import torchvision.transforms as transform"
      ]
    },
    {
      "cell_type": "code",
      "execution_count": 25,
      "metadata": {
        "id": "Hfww0jC6N9se"
      },
      "outputs": [],
      "source": [
        "device = torch.device(\"cuda\" if torch.cuda.is_available() else \"cpu\")"
      ]
    },
    {
      "cell_type": "code",
      "execution_count": 26,
      "metadata": {
        "id": "xJ7lgHZpmXPa"
      },
      "outputs": [],
      "source": [
        "class DQN(nn.Module):\n",
        "  def __init__(self, state_size, action_size, hidden_size):\n",
        "    super(DQN, self).__init__()\n",
        "\n",
        "    # define the conv layers\n",
        "    self.conv1 = nn.Conv2d(in_channels=4, out_channels=32, kernel_size=8, stride=4)\n",
        "    self.conv2 = nn.Conv2d(in_channels=32, out_channels=64, kernel_size=4, stride=2)\n",
        "    self.conv3 = nn.Conv2d(in_channels=64, out_channels=64, kernel_size=3, stride=1)\n",
        "\n",
        "    # define the linear layers\n",
        "    self.fc1 = nn.Linear(3136, 1024)\n",
        "    self.fc2 = nn.Linear(1024, action_size)\n",
        "\n",
        "  def forward(self, X):\n",
        "    X = F.relu(self.conv1(X))\n",
        "    X = F.relu(self.conv2(X))\n",
        "    X = F.relu(self.conv3(X))\n",
        "    X = X.view(-1, 3136)\n",
        "    X = F.dropout(X, p=0.5)\n",
        "    X = F.relu(self.fc1(X))\n",
        "    X = F.dropout(X, p=0.2)\n",
        "    X = self.fc2(X)\n",
        "    return X"
      ]
    },
    {
      "cell_type": "code",
      "execution_count": 27,
      "metadata": {
        "id": "Y5y4zCb1oMFS"
      },
      "outputs": [],
      "source": [
        "class DQNAgent:\n",
        "  def __init__(self, state_size, action_size, hidden_size, lr, discount, max_experiences=500000, min_experiences=50000, batch_size=32):\n",
        "    self.action_size = action_size\n",
        "    self.dqn = DQN(state_size, action_size, hidden_size).to(device)\n",
        "    self.target_network = DQN(state_size, action_size, hidden_size).to(device)\n",
        "    self.target_network.load_state_dict(self.dqn.state_dict())\n",
        "    self.dqn_optimizer = torch.optim.Adam(self.dqn.parameters(), lr=lr)\n",
        "    self.discount = discount\n",
        "    self.replay_buffer = deque()\n",
        "    self.max_experiences = max_experiences\n",
        "    self.min_experiences = min_experiences\n",
        "    self.batch_size = batch_size\n",
        "    self.resize_function = transform.Resize(size=(84, 84))\n",
        "    self.grayscale = transform.Grayscale()\n",
        "\n",
        "  def select_action(self, state, epsilon):\n",
        "    with torch.no_grad():\n",
        "      prob = np.random.random()\n",
        "      if prob < 1 - epsilon:\n",
        "        return np.random.choice(np.arange(self.action_size))\n",
        "      else:\n",
        "        state = state / 255\n",
        "        state = torch.Tensor(np.array(state)).permute(2, 0, 1).to(device)\n",
        "        state = self.grayscale(self.resize_function(state)).squeeze(0)\n",
        "        state_numpy = state.cpu().numpy()\n",
        "        state = [state_numpy, state_numpy, state_numpy, state_numpy]\n",
        "        input_state = torch.FloatTensor(np.array(state)).to(device)\n",
        "        action = torch.argmax(self.dqn(input_state))\n",
        "        return action\n",
        "\n",
        "  def add_experience(self, state, action, reward, next_state, done):\n",
        "    if len(self.replay_buffer) >= self.max_experiences:\n",
        "      self.replay_buffer.popleft()\n",
        "    state = torch.Tensor(np.array(state)).permute(2, 0, 1).to(device)\n",
        "    state = self.grayscale(self.resize_function(state))\n",
        "    next_state = torch.Tensor(np.array(next_state)).permute(2, 0, 1).to(device)\n",
        "    next_state = self.grayscale(self.resize_function(torch.Tensor(next_state)))\n",
        "    self.replay_buffer.append((state, action, reward, next_state, done))\n",
        "\n",
        "  def train(self):\n",
        "    if len(self.replay_buffer) < self.min_experiences:\n",
        "      return\n",
        "\n",
        "    # randomly select batch\n",
        "    samples = np.random.randint(4, len(self.replay_buffer) - 1, size=self.batch_size)\n",
        "    states = []\n",
        "    actions = []\n",
        "    rewards = []\n",
        "    next_states = []\n",
        "    dones = []\n",
        "\n",
        "    for sample in samples:\n",
        "        state = [s for s, _, _, _, _ in self.replay_buffer[sample-3:sample]]\n",
        "        next_state = [s for s, _, _, _, _ in self.replay_buffer[sample-2:sample+1]]\n",
        "        _, action, reward, _, done = self.replay_buffer[sample]\n",
        "        states.append(state)\n",
        "        actions.append(action)\n",
        "        rewards.append(reward)\n",
        "        next_states.append(next_state)\n",
        "        dones.append(done)\n",
        "\n",
        "    state_batch = torch.FloatTensor(np.array(states)).to(device)\n",
        "    next_state_batch = torch.FloatTensor(np.array(next_states)).to(device)\n",
        "    action_batch = torch.LongTensor(np.array(actions).reshape(-1, 1)).to(device)\n",
        "    reward_batch = torch.FloatTensor(np.array(rewards).reshape(-1, 1)).to(device)\n",
        "    done_batch = torch.FloatTensor(1 - np.array(dones).reshape(-1, 1)).to(device)\n",
        "\n",
        "    with torch.no_grad():\n",
        "      target_batch = reward_batch + done_batch * self.discount * torch.max(self.dqn(next_state_batch).detach(), dim=1)[0].view(self.batch_size, -1)\n",
        "\n",
        "    selected_action_prob = self.dqn(state_batch)\n",
        "    selected_action_prob = selected_action_prob.gather(1, action_batch)\n",
        "    dqn_loss = nn.HuberLoss()\n",
        "    dqn_loss_val = dqn_loss(selected_action_prob, target_batch)\n",
        "    self.dqn_optimizer.zero_grad()\n",
        "    dqn_loss_val.backward()\n",
        "    self.dqn_optimizer.step()\n",
        "\n",
        "    return dqn_loss_val.detach().cpu().numpy()\n",
        "\n",
        "  def update_target_network(self, num_iters, update_every):\n",
        "    if num_iters % update_every == 0:\n",
        "      self.target_network.load_state_dict(self.dqn.state_dict())"
      ]
    },
    {
      "cell_type": "code",
      "execution_count": 28,
      "metadata": {
        "id": "8iiJrLA34g2a"
      },
      "outputs": [],
      "source": [
        "env = gym.make(\"ALE/Breakout-v5\")\n",
        "ACTION_SIZE = env.action_space.n\n",
        "STATE_SIZE = env.observation_space.shape[0]"
      ]
    },
    {
      "cell_type": "code",
      "execution_count": 29,
      "metadata": {
        "id": "7g3iV1cb4n5q"
      },
      "outputs": [],
      "source": [
        "# set seed\n",
        "SEED = 42\n",
        "env.seed(SEED)\n",
        "np.random.seed(SEED)\n",
        "torch.manual_seed(SEED)\n",
        "if torch.cuda.is_available():\n",
        "    torch.cuda.manual_seed(SEED)\n",
        "    torch.cuda.manual_seed_all(SEED)"
      ]
    },
    {
      "cell_type": "code",
      "execution_count": 30,
      "metadata": {
        "id": "RMMjWvsH407v"
      },
      "outputs": [],
      "source": [
        "# config\n",
        "NUM_EPISODE = 30000 # run agent for this many episodes\n",
        "MIN_EPISODES = 100 # collect data for this many timesteps before training\n",
        "HIDDEN_SIZE = 64 # number of units in NN hidden layers\n",
        "LR = 0.0005 # learning rate for optimizer\n",
        "UPDATE_TARGET_NET_ITER = 5000 # update target network after this many steps\n",
        "BATCH_SIZE = 64 # mini batch size we train network on\n",
        "DISCOUNT_RATE = 0.99 # gamma value\n",
        "\n",
        "EPSILON_START = 1.0 # epsilon start value\n",
        "EPSILON_MIN = 0.01  # epsilon end value\n",
        "EPSILON_DECAY_STEPS = NUM_EPISODE * .15 # decay epsilon over this many episodes\n",
        "EPSILON_STEPS = (EPSILON_START - EPSILON_MIN)/(EPSILON_DECAY_STEPS) # decrement epsilon by this amount every timeste"
      ]
    },
    {
      "cell_type": "code",
      "execution_count": 31,
      "metadata": {
        "id": "Jw7bgBNt5ryB"
      },
      "outputs": [],
      "source": [
        "dqn_agent = DQNAgent(STATE_SIZE, ACTION_SIZE, HIDDEN_SIZE, LR, DISCOUNT_RATE)"
      ]
    },
    {
      "cell_type": "code",
      "execution_count": 32,
      "metadata": {
        "colab": {
          "base_uri": "https://localhost:8080/"
        },
        "id": "gYI_dGwJ6d9g",
        "outputId": "e55915bd-3877-4428-bf21-e02803c8f043"
      },
      "outputs": [
        {
          "output_type": "stream",
          "name": "stdout",
          "text": [
            "Episode: 0 Timestep: 2008 Total reward: 0.8 Episode length: 1958.5 Epsilon: 1.00 Loss: None\n",
            "Episode: 100 Timestep: 113164 Total reward: 0.0 Episode length: 403.5 Epsilon: 0.98 Loss: None\n",
            "Episode: 200 Timestep: 175307 Total reward: 0.8 Episode length: 383.5 Epsilon: 0.96 Loss: None\n",
            "Episode: 300 Timestep: 218530 Total reward: 0.0 Episode length: 280.5 Epsilon: 0.93 Loss: None\n",
            "Episode: 400 Timestep: 256108 Total reward: 0.2 Episode length: 196.5 Epsilon: 0.91 Loss: None\n",
            "Episode: 500 Timestep: 289565 Total reward: 0.0 Episode length: 217.5 Epsilon: 0.89 Loss: None\n",
            "Episode: 600 Timestep: 318510 Total reward: 0.0 Episode length: 189.5 Epsilon: 0.87 Loss: None\n",
            "Episode: 700 Timestep: 345604 Total reward: 2.7 Episode length: 272.5 Epsilon: 0.85 Loss: None\n",
            "Episode: 800 Timestep: 372073 Total reward: 0.0 Episode length: 257.5 Epsilon: 0.82 Loss: None\n",
            "Episode: 900 Timestep: 396529 Total reward: 2.0 Episode length: 202.5 Epsilon: 0.80 Loss: None\n",
            "Episode: 1000 Timestep: 419831 Total reward: 0.0 Episode length: 151.5 Epsilon: 0.78 Loss: None\n",
            "Episode: 1100 Timestep: 443923 Total reward: 0.0 Episode length: 112.5 Epsilon: 0.76 Loss: None\n",
            "Episode: 1200 Timestep: 466181 Total reward: 1.0 Episode length: 205.5 Epsilon: 0.74 Loss: None\n",
            "Episode: 1300 Timestep: 488444 Total reward: 0.0 Episode length: 104.5 Epsilon: 0.71 Loss: None\n",
            "Episode: 1400 Timestep: 510875 Total reward: 1.0 Episode length: 169.5 Epsilon: 0.69 Loss: None\n",
            "Episode: 1500 Timestep: 532897 Total reward: 0.0 Episode length: 126.5 Epsilon: 0.67 Loss: None\n",
            "Episode: 1600 Timestep: 554806 Total reward: 1.0 Episode length: 265.5 Epsilon: 0.65 Loss: None\n",
            "Episode: 1700 Timestep: 575377 Total reward: 0.2 Episode length: 122.5 Epsilon: 0.63 Loss: None\n",
            "Episode: 1800 Timestep: 595360 Total reward: 5.5 Episode length: 376.5 Epsilon: 0.60 Loss: None\n",
            "Episode: 1900 Timestep: 616829 Total reward: 1.0 Episode length: 166.5 Epsilon: 0.58 Loss: None\n",
            "Episode: 2000 Timestep: 637442 Total reward: 0.8 Episode length: 147.5 Epsilon: 0.56 Loss: None\n",
            "Episode: 2100 Timestep: 658003 Total reward: 0.0 Episode length: 120.5 Epsilon: 0.54 Loss: None\n",
            "Episode: 2200 Timestep: 678522 Total reward: 1.0 Episode length: 144.5 Epsilon: 0.52 Loss: None\n",
            "Episode: 2300 Timestep: 698143 Total reward: 0.0 Episode length: 107.5 Epsilon: 0.49 Loss: None\n",
            "Episode: 2400 Timestep: 718079 Total reward: 1.0 Episode length: 167.5 Epsilon: 0.47 Loss: None\n",
            "Episode: 2500 Timestep: 738655 Total reward: 1.5 Episode length: 165.5 Epsilon: 0.45 Loss: None\n",
            "Episode: 2600 Timestep: 758161 Total reward: 0.6 Episode length: 143.5 Epsilon: 0.43 Loss: None\n",
            "Episode: 2700 Timestep: 778032 Total reward: 1.8 Episode length: 179.5 Epsilon: 0.41 Loss: None\n",
            "Episode: 2800 Timestep: 796664 Total reward: 0.0 Episode length: 82.5 Epsilon: 0.38 Loss: None\n",
            "Episode: 2900 Timestep: 815461 Total reward: 1.5 Episode length: 139.5 Epsilon: 0.36 Loss: None\n",
            "Episode: 3000 Timestep: 835656 Total reward: 0.0 Episode length: 95.5 Epsilon: 0.34 Loss: None\n",
            "Episode: 3100 Timestep: 854787 Total reward: 0.8 Episode length: 124.5 Epsilon: 0.32 Loss: None\n",
            "Episode: 3200 Timestep: 874462 Total reward: 0.0 Episode length: 111.5 Epsilon: 0.30 Loss: None\n",
            "Episode: 3300 Timestep: 892728 Total reward: 0.0 Episode length: 101.5 Epsilon: 0.27 Loss: None\n",
            "Episode: 3400 Timestep: 911375 Total reward: 0.0 Episode length: 96.5 Epsilon: 0.25 Loss: None\n",
            "Episode: 3500 Timestep: 930615 Total reward: 1.0 Episode length: 141.5 Epsilon: 0.23 Loss: None\n",
            "Episode: 3600 Timestep: 949965 Total reward: 1.1 Episode length: 168.5 Epsilon: 0.21 Loss: None\n",
            "Episode: 3700 Timestep: 969452 Total reward: 1.0 Episode length: 158.5 Epsilon: 0.19 Loss: None\n",
            "Episode: 3800 Timestep: 988383 Total reward: 2.2 Episode length: 200.5 Epsilon: 0.16 Loss: None\n",
            "Episode: 3900 Timestep: 1006818 Total reward: 2.0 Episode length: 160.5 Epsilon: 0.14 Loss: None\n",
            "Episode: 4000 Timestep: 1025849 Total reward: 0.0 Episode length: 99.5 Epsilon: 0.12 Loss: None\n",
            "Episode: 4100 Timestep: 1044593 Total reward: 1.0 Episode length: 141.5 Epsilon: 0.10 Loss: None\n",
            "Episode: 4200 Timestep: 1062787 Total reward: 0.6 Episode length: 139.5 Epsilon: 0.08 Loss: None\n",
            "Episode: 4300 Timestep: 1082182 Total reward: 0.5 Episode length: 109.5 Epsilon: 0.05 Loss: None\n",
            "Episode: 4400 Timestep: 1100635 Total reward: 1.0 Episode length: 143.5 Epsilon: 0.03 Loss: None\n",
            "Episode: 4500 Timestep: 1119877 Total reward: 1.0 Episode length: 132.5 Epsilon: 0.01 Loss: None\n",
            "Episode: 4600 Timestep: 1137911 Total reward: 0.8 Episode length: 115.5 Epsilon: 0.01 Loss: None\n",
            "Episode: 4700 Timestep: 1156452 Total reward: 0.2 Episode length: 114.5 Epsilon: 0.01 Loss: None\n",
            "Episode: 4800 Timestep: 1175639 Total reward: 1.6 Episode length: 168.5 Epsilon: 0.01 Loss: None\n",
            "Episode: 4900 Timestep: 1194118 Total reward: 0.0 Episode length: 80.5 Epsilon: 0.01 Loss: None\n",
            "Episode: 5000 Timestep: 1212175 Total reward: 1.4 Episode length: 156.5 Epsilon: 0.01 Loss: None\n",
            "Episode: 5100 Timestep: 1231353 Total reward: 1.3 Episode length: 170.5 Epsilon: 0.01 Loss: None\n",
            "Episode: 5200 Timestep: 1249235 Total reward: 0.3 Episode length: 134.5 Epsilon: 0.01 Loss: None\n",
            "Episode: 5300 Timestep: 1267568 Total reward: 0.0 Episode length: 81.5 Epsilon: 0.01 Loss: None\n",
            "Episode: 5400 Timestep: 1286091 Total reward: 0.0 Episode length: 87.5 Epsilon: 0.01 Loss: None\n",
            "Episode: 5500 Timestep: 1305591 Total reward: 1.6 Episode length: 175.5 Epsilon: 0.01 Loss: None\n",
            "Episode: 5600 Timestep: 1324212 Total reward: 1.8 Episode length: 146.5 Epsilon: 0.01 Loss: None\n",
            "Episode: 5700 Timestep: 1343029 Total reward: 1.9 Episode length: 183.5 Epsilon: 0.01 Loss: None\n",
            "Episode: 5800 Timestep: 1361345 Total reward: 0.0 Episode length: 96.5 Epsilon: 0.01 Loss: None\n",
            "Episode: 5900 Timestep: 1380334 Total reward: 3.0 Episode length: 213.5 Epsilon: 0.01 Loss: None\n",
            "Episode: 6000 Timestep: 1398094 Total reward: 0.0 Episode length: 89.5 Epsilon: 0.01 Loss: None\n",
            "Episode: 6100 Timestep: 1417177 Total reward: 0.0 Episode length: 84.5 Epsilon: 0.01 Loss: None\n",
            "Episode: 6200 Timestep: 1435816 Total reward: 0.8 Episode length: 169.5 Epsilon: 0.01 Loss: None\n",
            "Episode: 6300 Timestep: 1453409 Total reward: 4.8 Episode length: 296.5 Epsilon: 0.01 Loss: None\n",
            "Episode: 6400 Timestep: 1472455 Total reward: 2.2 Episode length: 214.5 Epsilon: 0.01 Loss: None\n",
            "Episode: 6500 Timestep: 1490318 Total reward: 2.0 Episode length: 160.5 Epsilon: 0.01 Loss: None\n",
            "Episode: 6600 Timestep: 1509063 Total reward: 0.0 Episode length: 75.5 Epsilon: 0.01 Loss: None\n",
            "Episode: 6700 Timestep: 1528596 Total reward: 0.0 Episode length: 109.5 Epsilon: 0.01 Loss: None\n",
            "Episode: 6800 Timestep: 1547234 Total reward: 2.0 Episode length: 197.5 Epsilon: 0.01 Loss: None\n",
            "Episode: 6900 Timestep: 1566292 Total reward: 1.7 Episode length: 148.5 Epsilon: 0.01 Loss: None\n",
            "Episode: 7000 Timestep: 1584311 Total reward: 0.0 Episode length: 81.5 Epsilon: 0.01 Loss: None\n",
            "Episode: 7100 Timestep: 1603196 Total reward: 0.0 Episode length: 89.5 Epsilon: 0.01 Loss: None\n",
            "Episode: 7200 Timestep: 1622292 Total reward: 2.3 Episode length: 216.5 Epsilon: 0.01 Loss: None\n",
            "Episode: 7300 Timestep: 1641765 Total reward: 1.0 Episode length: 128.5 Epsilon: 0.01 Loss: None\n",
            "Episode: 7400 Timestep: 1660290 Total reward: 1.2 Episode length: 140.5 Epsilon: 0.01 Loss: None\n",
            "Episode: 7500 Timestep: 1677641 Total reward: 1.0 Episode length: 146.5 Epsilon: 0.01 Loss: None\n",
            "Episode: 7600 Timestep: 1696464 Total reward: 0.6 Episode length: 131.5 Epsilon: 0.01 Loss: None\n",
            "Episode: 7700 Timestep: 1715081 Total reward: 2.7 Episode length: 216.5 Epsilon: 0.01 Loss: None\n",
            "Episode: 7800 Timestep: 1733331 Total reward: 0.0 Episode length: 91.5 Epsilon: 0.01 Loss: None\n",
            "Episode: 7900 Timestep: 1752184 Total reward: 1.0 Episode length: 111.5 Epsilon: 0.01 Loss: None\n",
            "Episode: 8000 Timestep: 1770998 Total reward: 0.0 Episode length: 100.5 Epsilon: 0.01 Loss: None\n",
            "Episode: 8100 Timestep: 1789605 Total reward: 1.9 Episode length: 167.5 Epsilon: 0.01 Loss: None\n",
            "Episode: 8200 Timestep: 1807951 Total reward: 1.1 Episode length: 178.5 Epsilon: 0.01 Loss: None\n",
            "Episode: 8300 Timestep: 1827320 Total reward: 2.3 Episode length: 202.5 Epsilon: 0.01 Loss: None\n",
            "Episode: 8400 Timestep: 1846468 Total reward: 0.3 Episode length: 133.5 Epsilon: 0.01 Loss: None\n",
            "Episode: 8500 Timestep: 1865750 Total reward: 4.4 Episode length: 283.5 Epsilon: 0.01 Loss: None\n",
            "Episode: 8600 Timestep: 1884836 Total reward: 0.0 Episode length: 90.5 Epsilon: 0.01 Loss: None\n",
            "Episode: 8700 Timestep: 1903177 Total reward: 0.0 Episode length: 85.5 Epsilon: 0.01 Loss: None\n",
            "Episode: 8800 Timestep: 1921457 Total reward: 0.0 Episode length: 91.5 Epsilon: 0.01 Loss: None\n",
            "Episode: 8900 Timestep: 1939927 Total reward: 4.9 Episode length: 336.5 Epsilon: 0.01 Loss: None\n",
            "Episode: 9000 Timestep: 1957530 Total reward: 1.0 Episode length: 141.5 Epsilon: 0.01 Loss: None\n",
            "Episode: 9100 Timestep: 1976828 Total reward: 0.9 Episode length: 125.5 Epsilon: 0.01 Loss: None\n",
            "Episode: 9200 Timestep: 1995226 Total reward: 0.0 Episode length: 105.5 Epsilon: 0.01 Loss: None\n",
            "Episode: 9300 Timestep: 2013971 Total reward: 0.0 Episode length: 93.5 Epsilon: 0.01 Loss: None\n",
            "Episode: 9400 Timestep: 2032920 Total reward: 2.5 Episode length: 168.5 Epsilon: 0.01 Loss: None\n",
            "Episode: 9500 Timestep: 2052026 Total reward: 0.0 Episode length: 83.5 Epsilon: 0.01 Loss: None\n",
            "Episode: 9600 Timestep: 2071563 Total reward: 1.8 Episode length: 160.5 Epsilon: 0.01 Loss: None\n",
            "Episode: 9700 Timestep: 2090557 Total reward: 0.6 Episode length: 126.5 Epsilon: 0.01 Loss: None\n",
            "Episode: 9800 Timestep: 2109361 Total reward: 0.0 Episode length: 96.5 Epsilon: 0.01 Loss: None\n",
            "Episode: 9900 Timestep: 2129061 Total reward: 4.6 Episode length: 269.5 Epsilon: 0.01 Loss: None\n",
            "Episode: 10000 Timestep: 2146980 Total reward: 1.5 Episode length: 158.5 Epsilon: 0.01 Loss: None\n",
            "Episode: 10100 Timestep: 2166345 Total reward: 0.0 Episode length: 91.5 Epsilon: 0.01 Loss: None\n",
            "Episode: 10200 Timestep: 2185507 Total reward: 1.0 Episode length: 111.5 Epsilon: 0.01 Loss: None\n",
            "Episode: 10300 Timestep: 2204879 Total reward: 0.0 Episode length: 87.5 Epsilon: 0.01 Loss: None\n",
            "Episode: 10400 Timestep: 2224312 Total reward: 0.3 Episode length: 150.5 Epsilon: 0.01 Loss: None\n",
            "Episode: 10500 Timestep: 2243532 Total reward: 1.8 Episode length: 169.5 Epsilon: 0.01 Loss: None\n",
            "Episode: 10600 Timestep: 2262138 Total reward: 2.6 Episode length: 238.5 Epsilon: 0.01 Loss: None\n",
            "Episode: 10700 Timestep: 2280921 Total reward: 0.9 Episode length: 139.5 Epsilon: 0.01 Loss: None\n",
            "Episode: 10800 Timestep: 2300181 Total reward: 0.0 Episode length: 82.5 Epsilon: 0.01 Loss: None\n",
            "Episode: 10900 Timestep: 2318726 Total reward: 0.9 Episode length: 138.5 Epsilon: 0.01 Loss: None\n",
            "Episode: 11000 Timestep: 2337373 Total reward: 0.0 Episode length: 84.5 Epsilon: 0.01 Loss: None\n",
            "Episode: 11100 Timestep: 2355801 Total reward: 3.2 Episode length: 219.5 Epsilon: 0.01 Loss: None\n",
            "Episode: 11200 Timestep: 2374769 Total reward: 0.0 Episode length: 89.5 Epsilon: 0.01 Loss: None\n",
            "Episode: 11300 Timestep: 2393649 Total reward: 1.0 Episode length: 112.5 Epsilon: 0.01 Loss: None\n",
            "Episode: 11400 Timestep: 2412133 Total reward: 0.6 Episode length: 134.5 Epsilon: 0.01 Loss: None\n",
            "Episode: 11500 Timestep: 2430359 Total reward: 1.6 Episode length: 179.5 Epsilon: 0.01 Loss: None\n",
            "Episode: 11600 Timestep: 2449639 Total reward: 0.6 Episode length: 120.5 Epsilon: 0.01 Loss: None\n",
            "Episode: 11700 Timestep: 2468571 Total reward: 0.0 Episode length: 92.5 Epsilon: 0.01 Loss: None\n",
            "Episode: 11800 Timestep: 2487524 Total reward: 0.8 Episode length: 114.5 Epsilon: 0.01 Loss: None\n",
            "Episode: 11900 Timestep: 2506457 Total reward: 2.0 Episode length: 174.5 Epsilon: 0.01 Loss: None\n",
            "Episode: 12000 Timestep: 2525527 Total reward: 2.0 Episode length: 177.5 Epsilon: 0.01 Loss: None\n",
            "Episode: 12100 Timestep: 2543746 Total reward: 2.0 Episode length: 181.5 Epsilon: 0.01 Loss: None\n",
            "Episode: 12200 Timestep: 2561991 Total reward: 0.0 Episode length: 94.5 Epsilon: 0.01 Loss: None\n",
            "Episode: 12300 Timestep: 2580369 Total reward: 2.0 Episode length: 148.5 Epsilon: 0.01 Loss: None\n",
            "Episode: 12400 Timestep: 2600302 Total reward: 2.1 Episode length: 198.5 Epsilon: 0.01 Loss: None\n",
            "Episode: 12500 Timestep: 2618878 Total reward: 0.3 Episode length: 148.5 Epsilon: 0.01 Loss: None\n",
            "Episode: 12600 Timestep: 2638086 Total reward: 0.2 Episode length: 107.5 Epsilon: 0.01 Loss: None\n",
            "Episode: 12700 Timestep: 2657477 Total reward: 1.0 Episode length: 136.5 Epsilon: 0.01 Loss: None\n",
            "Episode: 12800 Timestep: 2676811 Total reward: 1.9 Episode length: 161.5 Epsilon: 0.01 Loss: None\n",
            "Episode: 12900 Timestep: 2695702 Total reward: 0.0 Episode length: 81.5 Epsilon: 0.01 Loss: None\n",
            "Episode: 13000 Timestep: 2714638 Total reward: 0.8 Episode length: 129.5 Epsilon: 0.01 Loss: None\n",
            "Episode: 13100 Timestep: 2733488 Total reward: 0.2 Episode length: 120.5 Epsilon: 0.01 Loss: None\n",
            "Episode: 13200 Timestep: 2751923 Total reward: 2.6 Episode length: 200.5 Epsilon: 0.01 Loss: None\n",
            "Episode: 13300 Timestep: 2770661 Total reward: 0.0 Episode length: 106.5 Epsilon: 0.01 Loss: None\n",
            "Episode: 13400 Timestep: 2789326 Total reward: 0.8 Episode length: 106.5 Epsilon: 0.01 Loss: None\n",
            "Episode: 13500 Timestep: 2808621 Total reward: 0.3 Episode length: 146.5 Epsilon: 0.01 Loss: None\n",
            "Episode: 13600 Timestep: 2826955 Total reward: 0.0 Episode length: 91.5 Epsilon: 0.01 Loss: None\n",
            "Episode: 13700 Timestep: 2845596 Total reward: 0.0 Episode length: 99.5 Epsilon: 0.01 Loss: None\n",
            "Episode: 13800 Timestep: 2864442 Total reward: 2.0 Episode length: 141.5 Epsilon: 0.01 Loss: None\n",
            "Episode: 13900 Timestep: 2882964 Total reward: 1.8 Episode length: 177.5 Epsilon: 0.01 Loss: None\n",
            "Episode: 14000 Timestep: 2902125 Total reward: 0.0 Episode length: 88.5 Epsilon: 0.01 Loss: None\n",
            "Episode: 14100 Timestep: 2921533 Total reward: 0.0 Episode length: 84.5 Epsilon: 0.01 Loss: None\n",
            "Episode: 14200 Timestep: 2939635 Total reward: 1.0 Episode length: 142.5 Epsilon: 0.01 Loss: None\n",
            "Episode: 14300 Timestep: 2957733 Total reward: 0.0 Episode length: 94.5 Epsilon: 0.01 Loss: None\n",
            "Episode: 14400 Timestep: 2976226 Total reward: 0.6 Episode length: 123.5 Epsilon: 0.01 Loss: None\n",
            "Episode: 14500 Timestep: 2995574 Total reward: 0.3 Episode length: 138.5 Epsilon: 0.01 Loss: None\n",
            "Episode: 14600 Timestep: 3014810 Total reward: 2.9 Episode length: 250.5 Epsilon: 0.01 Loss: None\n",
            "Episode: 14700 Timestep: 3034525 Total reward: 0.2 Episode length: 125.5 Epsilon: 0.01 Loss: None\n",
            "Episode: 14800 Timestep: 3053650 Total reward: 0.8 Episode length: 112.5 Epsilon: 0.01 Loss: None\n",
            "Episode: 14900 Timestep: 3072441 Total reward: 0.6 Episode length: 140.5 Epsilon: 0.01 Loss: None\n",
            "Episode: 15000 Timestep: 3091610 Total reward: 2.4 Episode length: 208.5 Epsilon: 0.01 Loss: None\n",
            "Episode: 15100 Timestep: 3110126 Total reward: 0.0 Episode length: 85.5 Epsilon: 0.01 Loss: None\n",
            "Episode: 15200 Timestep: 3129036 Total reward: 1.8 Episode length: 152.5 Epsilon: 0.01 Loss: None\n",
            "Episode: 15300 Timestep: 3149008 Total reward: 2.0 Episode length: 195.5 Epsilon: 0.01 Loss: None\n",
            "Episode: 15400 Timestep: 3168295 Total reward: 1.8 Episode length: 134.5 Epsilon: 0.01 Loss: None\n",
            "Episode: 15500 Timestep: 3186774 Total reward: 0.0 Episode length: 95.5 Epsilon: 0.01 Loss: None\n",
            "Episode: 15600 Timestep: 3205910 Total reward: 3.2 Episode length: 221.5 Epsilon: 0.01 Loss: None\n",
            "Episode: 15700 Timestep: 3224191 Total reward: 1.0 Episode length: 136.5 Epsilon: 0.01 Loss: None\n",
            "Episode: 15800 Timestep: 3242903 Total reward: 0.6 Episode length: 138.5 Epsilon: 0.01 Loss: None\n",
            "Episode: 15900 Timestep: 3262377 Total reward: 1.9 Episode length: 180.5 Epsilon: 0.01 Loss: None\n",
            "Episode: 16000 Timestep: 3281007 Total reward: 0.0 Episode length: 104.5 Epsilon: 0.01 Loss: None\n",
            "Episode: 16100 Timestep: 3299934 Total reward: 1.4 Episode length: 176.5 Epsilon: 0.01 Loss: None\n",
            "Episode: 16200 Timestep: 3318782 Total reward: 2.3 Episode length: 207.5 Epsilon: 0.01 Loss: None\n",
            "Episode: 16300 Timestep: 3337856 Total reward: 0.8 Episode length: 160.5 Epsilon: 0.01 Loss: None\n",
            "Episode: 16400 Timestep: 3356629 Total reward: 0.0 Episode length: 84.5 Epsilon: 0.01 Loss: None\n",
            "Episode: 16500 Timestep: 3375483 Total reward: 0.8 Episode length: 160.5 Epsilon: 0.01 Loss: None\n",
            "Episode: 16600 Timestep: 3395021 Total reward: 3.9 Episode length: 299.5 Epsilon: 0.01 Loss: None\n",
            "Episode: 16700 Timestep: 3412777 Total reward: 2.0 Episode length: 172.5 Epsilon: 0.01 Loss: None\n",
            "Episode: 16800 Timestep: 3431669 Total reward: 1.9 Episode length: 185.5 Epsilon: 0.01 Loss: None\n",
            "Episode: 16900 Timestep: 3451687 Total reward: 1.0 Episode length: 122.5 Epsilon: 0.01 Loss: None\n",
            "Episode: 17000 Timestep: 3470109 Total reward: 1.0 Episode length: 150.5 Epsilon: 0.01 Loss: None\n",
            "Episode: 17100 Timestep: 3488613 Total reward: 0.5 Episode length: 113.5 Epsilon: 0.01 Loss: None\n",
            "Episode: 17200 Timestep: 3507702 Total reward: 0.0 Episode length: 84.5 Epsilon: 0.01 Loss: None\n",
            "Episode: 17300 Timestep: 3526612 Total reward: 1.0 Episode length: 108.5 Epsilon: 0.01 Loss: None\n",
            "Episode: 17400 Timestep: 3545413 Total reward: 1.8 Episode length: 164.5 Epsilon: 0.01 Loss: None\n",
            "Episode: 17500 Timestep: 3564259 Total reward: 0.3 Episode length: 138.5 Epsilon: 0.01 Loss: None\n",
            "Episode: 17600 Timestep: 3582973 Total reward: 0.0 Episode length: 80.5 Epsilon: 0.01 Loss: None\n",
            "Episode: 17700 Timestep: 3601758 Total reward: 1.0 Episode length: 112.5 Epsilon: 0.01 Loss: None\n",
            "Episode: 17800 Timestep: 3620466 Total reward: 0.0 Episode length: 75.5 Epsilon: 0.01 Loss: None\n",
            "Episode: 17900 Timestep: 3639027 Total reward: 1.0 Episode length: 119.5 Epsilon: 0.01 Loss: None\n",
            "Episode: 18000 Timestep: 3658434 Total reward: 0.8 Episode length: 125.5 Epsilon: 0.01 Loss: None\n",
            "Episode: 18100 Timestep: 3677392 Total reward: 0.0 Episode length: 76.5 Epsilon: 0.01 Loss: None\n",
            "Episode: 18200 Timestep: 3696708 Total reward: 2.3 Episode length: 205.5 Epsilon: 0.01 Loss: None\n",
            "Episode: 18300 Timestep: 3716035 Total reward: 2.0 Episode length: 151.5 Epsilon: 0.01 Loss: None\n",
            "Episode: 18400 Timestep: 3734745 Total reward: 1.0 Episode length: 117.5 Epsilon: 0.01 Loss: None\n",
            "Episode: 18500 Timestep: 3754059 Total reward: 1.9 Episode length: 183.5 Epsilon: 0.01 Loss: None\n",
            "Episode: 18600 Timestep: 3772760 Total reward: 2.0 Episode length: 157.5 Epsilon: 0.01 Loss: None\n",
            "Episode: 18700 Timestep: 3790979 Total reward: 2.0 Episode length: 190.5 Epsilon: 0.01 Loss: None\n",
            "Episode: 18800 Timestep: 3809975 Total reward: 1.0 Episode length: 141.5 Epsilon: 0.01 Loss: None\n",
            "Episode: 18900 Timestep: 3829504 Total reward: 0.2 Episode length: 108.5 Epsilon: 0.01 Loss: None\n",
            "Episode: 19000 Timestep: 3848119 Total reward: 0.0 Episode length: 83.5 Epsilon: 0.01 Loss: None\n",
            "Episode: 19100 Timestep: 3867796 Total reward: 0.0 Episode length: 79.5 Epsilon: 0.01 Loss: None\n",
            "Episode: 19200 Timestep: 3886725 Total reward: 3.9 Episode length: 230.5 Epsilon: 0.01 Loss: None\n",
            "Episode: 19300 Timestep: 3905644 Total reward: 0.3 Episode length: 134.5 Epsilon: 0.01 Loss: None\n",
            "Episode: 19400 Timestep: 3924782 Total reward: 4.6 Episode length: 270.5 Epsilon: 0.01 Loss: None\n",
            "Episode: 19500 Timestep: 3943884 Total reward: 1.0 Episode length: 112.5 Epsilon: 0.01 Loss: None\n",
            "Episode: 19600 Timestep: 3962967 Total reward: 0.2 Episode length: 134.5 Epsilon: 0.01 Loss: None\n",
            "Episode: 19700 Timestep: 3981796 Total reward: 2.1 Episode length: 205.5 Epsilon: 0.01 Loss: None\n",
            "Episode: 19800 Timestep: 4001320 Total reward: 1.0 Episode length: 127.5 Epsilon: 0.01 Loss: None\n",
            "Episode: 19900 Timestep: 4020666 Total reward: 1.8 Episode length: 161.5 Epsilon: 0.01 Loss: None\n",
            "Episode: 20000 Timestep: 4038985 Total reward: 1.5 Episode length: 169.5 Epsilon: 0.01 Loss: None\n",
            "Episode: 20100 Timestep: 4057960 Total reward: 0.0 Episode length: 78.5 Epsilon: 0.01 Loss: None\n",
            "Episode: 20200 Timestep: 4076526 Total reward: 0.2 Episode length: 119.5 Epsilon: 0.01 Loss: None\n",
            "Episode: 20300 Timestep: 4095434 Total reward: 0.2 Episode length: 109.5 Epsilon: 0.01 Loss: None\n",
            "Episode: 20400 Timestep: 4115084 Total reward: 1.0 Episode length: 137.5 Epsilon: 0.01 Loss: None\n",
            "Episode: 20500 Timestep: 4134640 Total reward: 0.6 Episode length: 131.5 Epsilon: 0.01 Loss: None\n",
            "Episode: 20600 Timestep: 4153293 Total reward: 1.3 Episode length: 181.5 Epsilon: 0.01 Loss: None\n",
            "Episode: 20700 Timestep: 4172116 Total reward: 4.0 Episode length: 284.5 Epsilon: 0.01 Loss: None\n",
            "Episode: 20800 Timestep: 4190756 Total reward: 0.0 Episode length: 78.5 Epsilon: 0.01 Loss: None\n",
            "Episode: 20900 Timestep: 4209554 Total reward: 3.6 Episode length: 242.5 Epsilon: 0.01 Loss: None\n",
            "Episode: 21000 Timestep: 4228115 Total reward: 1.3 Episode length: 182.5 Epsilon: 0.01 Loss: None\n",
            "Episode: 21100 Timestep: 4247052 Total reward: 2.0 Episode length: 168.5 Epsilon: 0.01 Loss: None\n",
            "Episode: 21200 Timestep: 4266049 Total reward: 1.4 Episode length: 163.5 Epsilon: 0.01 Loss: None\n",
            "Episode: 21300 Timestep: 4284974 Total reward: 2.6 Episode length: 211.5 Epsilon: 0.01 Loss: None\n",
            "Episode: 21400 Timestep: 4303254 Total reward: 1.3 Episode length: 154.5 Epsilon: 0.01 Loss: None\n",
            "Episode: 21500 Timestep: 4321071 Total reward: 1.0 Episode length: 130.5 Epsilon: 0.01 Loss: None\n",
            "Episode: 21600 Timestep: 4339332 Total reward: 0.0 Episode length: 88.5 Epsilon: 0.01 Loss: None\n",
            "Episode: 21700 Timestep: 4357719 Total reward: 0.0 Episode length: 85.5 Epsilon: 0.01 Loss: None\n",
            "Episode: 21800 Timestep: 4376390 Total reward: 1.0 Episode length: 108.5 Epsilon: 0.01 Loss: None\n",
            "Episode: 21900 Timestep: 4395730 Total reward: 2.3 Episode length: 207.5 Epsilon: 0.01 Loss: None\n",
            "Episode: 22000 Timestep: 4414930 Total reward: 0.0 Episode length: 102.5 Epsilon: 0.01 Loss: None\n",
            "Episode: 22100 Timestep: 4433937 Total reward: 1.5 Episode length: 134.5 Epsilon: 0.01 Loss: None\n",
            "Episode: 22200 Timestep: 4451878 Total reward: 0.3 Episode length: 133.5 Epsilon: 0.01 Loss: None\n",
            "Episode: 22300 Timestep: 4470328 Total reward: 0.2 Episode length: 117.5 Epsilon: 0.01 Loss: None\n",
            "Episode: 22400 Timestep: 4489126 Total reward: 2.0 Episode length: 181.5 Epsilon: 0.01 Loss: None\n",
            "Episode: 22500 Timestep: 4507650 Total reward: 0.0 Episode length: 87.5 Epsilon: 0.01 Loss: None\n",
            "Episode: 22600 Timestep: 4525392 Total reward: 0.0 Episode length: 101.5 Epsilon: 0.01 Loss: None\n",
            "Episode: 22700 Timestep: 4544606 Total reward: 0.0 Episode length: 81.5 Epsilon: 0.01 Loss: None\n",
            "Episode: 22800 Timestep: 4563404 Total reward: 0.0 Episode length: 91.5 Epsilon: 0.01 Loss: None\n",
            "Episode: 22900 Timestep: 4581965 Total reward: 0.2 Episode length: 120.5 Epsilon: 0.01 Loss: None\n",
            "Episode: 23000 Timestep: 4600806 Total reward: 1.0 Episode length: 129.5 Epsilon: 0.01 Loss: None\n",
            "Episode: 23100 Timestep: 4619610 Total reward: 1.7 Episode length: 141.5 Epsilon: 0.01 Loss: None\n",
            "Episode: 23200 Timestep: 4638325 Total reward: 0.3 Episode length: 144.5 Epsilon: 0.01 Loss: None\n",
            "Episode: 23300 Timestep: 4657083 Total reward: 1.4 Episode length: 163.5 Epsilon: 0.01 Loss: None\n",
            "Episode: 23400 Timestep: 4676221 Total reward: 0.0 Episode length: 81.5 Epsilon: 0.01 Loss: None\n",
            "Episode: 23500 Timestep: 4695313 Total reward: 1.5 Episode length: 147.5 Epsilon: 0.01 Loss: None\n",
            "Episode: 23600 Timestep: 4713678 Total reward: 2.0 Episode length: 205.5 Epsilon: 0.01 Loss: None\n",
            "Episode: 23700 Timestep: 4732606 Total reward: 1.4 Episode length: 158.5 Epsilon: 0.01 Loss: None\n",
            "Episode: 23800 Timestep: 4751252 Total reward: 3.3 Episode length: 267.5 Epsilon: 0.01 Loss: None\n",
            "Episode: 23900 Timestep: 4769728 Total reward: 0.0 Episode length: 78.5 Epsilon: 0.01 Loss: None\n",
            "Episode: 24000 Timestep: 4787844 Total reward: 0.2 Episode length: 105.5 Epsilon: 0.01 Loss: None\n",
            "Episode: 24100 Timestep: 4806610 Total reward: 1.0 Episode length: 128.5 Epsilon: 0.01 Loss: None\n",
            "Episode: 24200 Timestep: 4825668 Total reward: 0.0 Episode length: 90.5 Epsilon: 0.01 Loss: None\n",
            "Episode: 24300 Timestep: 4844615 Total reward: 1.0 Episode length: 116.5 Epsilon: 0.01 Loss: None\n",
            "Episode: 24400 Timestep: 4864026 Total reward: 1.0 Episode length: 122.5 Epsilon: 0.01 Loss: None\n",
            "Episode: 24500 Timestep: 4882754 Total reward: 0.0 Episode length: 94.5 Epsilon: 0.01 Loss: None\n",
            "Episode: 24600 Timestep: 4902103 Total reward: 1.4 Episode length: 158.5 Epsilon: 0.01 Loss: None\n",
            "Episode: 24700 Timestep: 4921000 Total reward: 1.9 Episode length: 163.5 Epsilon: 0.01 Loss: None\n",
            "Episode: 24800 Timestep: 4940493 Total reward: 2.9 Episode length: 181.5 Epsilon: 0.01 Loss: None\n",
            "Episode: 24900 Timestep: 4958338 Total reward: 0.0 Episode length: 73.5 Epsilon: 0.01 Loss: None\n",
            "Episode: 25000 Timestep: 4977420 Total reward: 0.0 Episode length: 80.5 Epsilon: 0.01 Loss: None\n",
            "Episode: 25100 Timestep: 4996136 Total reward: 0.0 Episode length: 89.5 Epsilon: 0.01 Loss: None\n",
            "Episode: 25200 Timestep: 5014708 Total reward: 1.3 Episode length: 183.5 Epsilon: 0.01 Loss: None\n",
            "Episode: 25300 Timestep: 5033087 Total reward: 0.0 Episode length: 85.5 Epsilon: 0.01 Loss: None\n",
            "Episode: 25400 Timestep: 5051637 Total reward: 0.0 Episode length: 100.5 Epsilon: 0.01 Loss: None\n",
            "Episode: 25500 Timestep: 5071483 Total reward: 1.0 Episode length: 128.5 Epsilon: 0.01 Loss: None\n",
            "Episode: 25600 Timestep: 5089615 Total reward: 3.3 Episode length: 274.5 Epsilon: 0.01 Loss: None\n",
            "Episode: 25700 Timestep: 5108456 Total reward: 0.3 Episode length: 132.5 Epsilon: 0.01 Loss: None\n",
            "Episode: 25800 Timestep: 5127304 Total reward: 0.0 Episode length: 81.5 Epsilon: 0.01 Loss: None\n",
            "Episode: 25900 Timestep: 5145861 Total reward: 1.0 Episode length: 142.5 Epsilon: 0.01 Loss: None\n",
            "Episode: 26000 Timestep: 5164044 Total reward: 0.0 Episode length: 92.5 Epsilon: 0.01 Loss: None\n",
            "Episode: 26100 Timestep: 5183485 Total reward: 0.0 Episode length: 91.5 Epsilon: 0.01 Loss: None\n",
            "Episode: 26200 Timestep: 5202786 Total reward: 0.6 Episode length: 131.5 Epsilon: 0.01 Loss: None\n",
            "Episode: 26300 Timestep: 5221049 Total reward: 0.0 Episode length: 76.5 Epsilon: 0.01 Loss: None\n",
            "Episode: 26400 Timestep: 5239562 Total reward: 0.0 Episode length: 86.5 Epsilon: 0.01 Loss: None\n",
            "Episode: 26500 Timestep: 5258083 Total reward: 0.0 Episode length: 93.5 Epsilon: 0.01 Loss: None\n",
            "Episode: 26600 Timestep: 5276933 Total reward: 2.6 Episode length: 230.5 Epsilon: 0.01 Loss: None\n",
            "Episode: 26700 Timestep: 5296047 Total reward: 2.0 Episode length: 166.5 Epsilon: 0.01 Loss: None\n",
            "Episode: 26800 Timestep: 5315394 Total reward: 0.6 Episode length: 136.5 Epsilon: 0.01 Loss: None\n",
            "Episode: 26900 Timestep: 5333858 Total reward: 1.0 Episode length: 138.5 Epsilon: 0.01 Loss: None\n",
            "Episode: 27000 Timestep: 5352684 Total reward: 0.0 Episode length: 91.5 Epsilon: 0.01 Loss: None\n",
            "Episode: 27100 Timestep: 5371600 Total reward: 2.2 Episode length: 196.5 Epsilon: 0.01 Loss: None\n",
            "Episode: 27200 Timestep: 5390397 Total reward: 0.0 Episode length: 86.5 Epsilon: 0.01 Loss: None\n",
            "Episode: 27300 Timestep: 5408933 Total reward: 0.0 Episode length: 87.5 Epsilon: 0.01 Loss: None\n",
            "Episode: 27400 Timestep: 5427740 Total reward: 0.5 Episode length: 106.5 Epsilon: 0.01 Loss: None\n",
            "Episode: 27500 Timestep: 5447531 Total reward: 2.0 Episode length: 186.5 Epsilon: 0.01 Loss: None\n",
            "Episode: 27600 Timestep: 5466447 Total reward: 0.0 Episode length: 87.5 Epsilon: 0.01 Loss: None\n",
            "Episode: 27700 Timestep: 5484871 Total reward: 0.0 Episode length: 78.5 Epsilon: 0.01 Loss: None\n",
            "Episode: 27800 Timestep: 5503327 Total reward: 1.2 Episode length: 153.5 Epsilon: 0.01 Loss: None\n",
            "Episode: 27900 Timestep: 5522070 Total reward: 1.9 Episode length: 180.5 Epsilon: 0.01 Loss: None\n",
            "Episode: 28000 Timestep: 5540200 Total reward: 0.0 Episode length: 82.5 Epsilon: 0.01 Loss: None\n",
            "Episode: 28100 Timestep: 5558615 Total reward: 0.0 Episode length: 84.5 Epsilon: 0.01 Loss: None\n",
            "Episode: 28200 Timestep: 5577169 Total reward: 0.7 Episode length: 140.5 Epsilon: 0.01 Loss: None\n",
            "Episode: 28300 Timestep: 5596125 Total reward: 0.0 Episode length: 94.5 Epsilon: 0.01 Loss: None\n",
            "Episode: 28400 Timestep: 5615893 Total reward: 1.4 Episode length: 168.5 Epsilon: 0.01 Loss: None\n",
            "Episode: 28500 Timestep: 5634450 Total reward: 1.6 Episode length: 165.5 Epsilon: 0.01 Loss: None\n",
            "Episode: 28600 Timestep: 5654331 Total reward: 2.4 Episode length: 179.5 Epsilon: 0.01 Loss: None\n",
            "Episode: 28700 Timestep: 5672851 Total reward: 2.0 Episode length: 172.5 Epsilon: 0.01 Loss: None\n",
            "Episode: 28800 Timestep: 5691984 Total reward: 1.9 Episode length: 165.5 Epsilon: 0.01 Loss: None\n",
            "Episode: 28900 Timestep: 5710681 Total reward: 0.3 Episode length: 130.5 Epsilon: 0.01 Loss: None\n",
            "Episode: 29000 Timestep: 5730643 Total reward: 1.3 Episode length: 164.5 Epsilon: 0.01 Loss: None\n",
            "Episode: 29100 Timestep: 5749959 Total reward: 0.0 Episode length: 101.5 Epsilon: 0.01 Loss: None\n",
            "Episode: 29200 Timestep: 5767572 Total reward: 0.0 Episode length: 80.5 Epsilon: 0.01 Loss: None\n",
            "Episode: 29300 Timestep: 5786419 Total reward: 0.0 Episode length: 80.5 Epsilon: 0.01 Loss: None\n",
            "Episode: 29400 Timestep: 5805417 Total reward: 3.9 Episode length: 307.5 Epsilon: 0.01 Loss: None\n",
            "Episode: 29500 Timestep: 5824941 Total reward: 1.0 Episode length: 126.5 Epsilon: 0.01 Loss: None\n",
            "Episode: 29600 Timestep: 5843989 Total reward: 0.9 Episode length: 133.5 Epsilon: 0.01 Loss: None\n",
            "Episode: 29700 Timestep: 5862625 Total reward: 1.0 Episode length: 158.5 Epsilon: 0.01 Loss: None\n",
            "Episode: 29800 Timestep: 5881757 Total reward: 1.5 Episode length: 159.5 Epsilon: 0.01 Loss: None\n",
            "Episode: 29900 Timestep: 5901456 Total reward: 1.9 Episode length: 189.5 Epsilon: 0.01 Loss: None\n"
          ]
        }
      ],
      "source": [
        "stats_rewards_list = []\n",
        "stats_every = 100\n",
        "total_reward = 0\n",
        "timesteps = 0\n",
        "episode_length = 0\n",
        "epsilon = EPSILON_START\n",
        "\n",
        "for episode in range(NUM_EPISODE):\n",
        "  state = env.reset()\n",
        "  stats_loss = 0\n",
        "\n",
        "  while True:\n",
        "    timesteps += 1\n",
        "    action = dqn_agent.select_action(state, epsilon)\n",
        "    next_state, reward, done, _ = env.step(action)\n",
        "    total_reward += reward\n",
        "    episode_length += 1\n",
        "\n",
        "\n",
        "    if done:\n",
        "      next_state = np.zeros(state.shape)\n",
        "      reward = -1\n",
        "      dqn_agent.add_experience(state, action, reward, next_state, done)\n",
        "\n",
        "      stats_rewards_list.append((episode, total_reward, episode_length))\n",
        "      total_reward = 0\n",
        "      episode_length = 0\n",
        "\n",
        "      epsilon -= EPSILON_STEPS\n",
        "      epsilon = max(epsilon, EPSILON_MIN)\n",
        "      if timesteps > MIN_EPISODES and episode % stats_every == 0:\n",
        "        print('Episode: {}'.format(episode),\n",
        "              'Timestep: {}'.format(timesteps),\n",
        "              'Total reward: {:.1f}'.format(np.mean(stats_rewards_list[-stats_every:],axis=0)[1]),\n",
        "              'Episode length: {:.1f}'.format(np.mean(stats_rewards_list[-stats_every:],axis=0)[2]),\n",
        "              'Epsilon: {:.2f}'.format(epsilon),\n",
        "              f'Loss: {str(stats_loss)}')\n",
        "\n",
        "      break\n",
        "\n",
        "    else:\n",
        "      stats_rewards_list.append((episode, total_reward, episode_length))\n",
        "\n",
        "    state = next_state\n",
        "    if timesteps > MIN_EPISODES:\n",
        "      stats_loss = dqn_agent.train()\n",
        "      dqn_agent.update_target_network(timesteps, UPDATE_TARGET_NET_ITER)"
      ]
    },
    {
      "cell_type": "code",
      "execution_count": 33,
      "metadata": {
        "id": "SzXHmJEI6i9K",
        "colab": {
          "base_uri": "https://localhost:8080/",
          "height": 467
        },
        "outputId": "d7711123-f49e-4b38-d9fc-db015841c137"
      },
      "outputs": [
        {
          "output_type": "execute_result",
          "data": {
            "text/plain": [
              "Text(0, 0.5, 'Episode Reward')"
            ]
          },
          "metadata": {},
          "execution_count": 33
        },
        {
          "output_type": "display_data",
          "data": {
            "text/plain": [
              "<Figure size 640x480 with 1 Axes>"
            ],
            "image/png": "[encoded data removed]"
          },
          "metadata": {}
        }
      ],
      "source": [
        " # plot stats\n",
        "def get_running_stat(stat, stat_len):\n",
        "    cum_sum = np.cumsum(np.insert(stat, 0, 0))\n",
        "    return (cum_sum[stat_len:] - cum_sum[:-stat_len]) / stat_len\n",
        "\n",
        "episode, r, l = np.array(stats_rewards_list).T\n",
        "cum_r = get_running_stat(r, 10)\n",
        "cum_l = get_running_stat(l, 10)\n",
        "\n",
        "# plot rewards\n",
        "plt.plot(episode[-len(cum_r):], cum_r)\n",
        "plt.plot(episode, r, alpha=0.5)\n",
        "plt.xlabel('Episode')\n",
        "plt.ylabel('Episode Reward')"
      ]
    },
    {
      "cell_type": "code",
      "execution_count": 34,
      "metadata": {
        "id": "ZVd7J5yb6j9R",
        "colab": {
          "base_uri": "https://localhost:8080/",
          "height": 467
        },
        "outputId": "5281549b-4b28-42e8-e3c8-0a4e68f0ba74"
      },
      "outputs": [
        {
          "output_type": "execute_result",
          "data": {
            "text/plain": [
              "Text(0, 0.5, 'Episode Length')"
            ]
          },
          "metadata": {},
          "execution_count": 34
        },
        {
          "output_type": "display_data",
          "data": {
            "text/plain": [
              "<Figure size 640x480 with 1 Axes>"
            ],
            "image/png": "[encoded data removed]"
          },
          "metadata": {}
        }
      ],
      "source": [
        "# plot episode lengths\n",
        "plt.plot(episode[-len(cum_l):], cum_l)\n",
        "plt.plot(episode, l, alpha=0.5)\n",
        "plt.xlabel('Episode')\n",
        "plt.ylabel('Episode Length')"
      ]
    },
    {
      "cell_type": "code",
      "source": [],
      "metadata": {
        "id": "l06KrIA1B8Ok"
      },
      "execution_count": null,
      "outputs": []
    }
  ],
  "metadata": {
    "colab": {
      "provenance": [],
      "gpuType": "T4"
    },
    "kernelspec": {
      "display_name": "Python 3",
      "name": "python3"
    },
    "language_info": {
      "name": "python"
    }
  },
  "nbformat": 4,
  "nbformat_minor": 0
}