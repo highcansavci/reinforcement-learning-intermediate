{
  "nbformat": 4,
  "nbformat_minor": 0,
  "metadata": {
    "colab": {
      "provenance": []
    },
    "kernelspec": {
      "name": "python3",
      "display_name": "Python 3"
    },
    "language_info": {
      "name": "python"
    }
  },
  "cells": [
    {
      "cell_type": "code",
      "execution_count": null,
      "metadata": {
        "id": "MPIvUwOIf-gZ"
      },
      "outputs": [],
      "source": [
        "import numpy as np\n",
        "import matplotlib.pyplot as plt"
      ]
    },
    {
      "cell_type": "code",
      "source": [
        "def evolution_strategy(f, population_size, sigma, lr, initial_params, num_iters):\n",
        "  # assume initial params is a 1D array\n",
        "  num_params = len(initial_params)\n",
        "  reward_per_iteration = np.zeros(num_iters)\n",
        "\n",
        "  params = initial_params\n",
        "  for t in range(num_iters):\n",
        "    noises = np.random.randn(population_size, num_params)\n",
        "    rewards = np.zeros(population_size)\n",
        "\n",
        "    # loop through each offspring\n",
        "    for j in range(population_size):\n",
        "      params_try = params + sigma * noises[j]\n",
        "      rewards[j] = f(params_try)\n",
        "\n",
        "    mean = rewards.mean()\n",
        "    advantage = (rewards - mean) / rewards.std()\n",
        "    reward_per_iteration[t] = mean\n",
        "    params = params + lr / (population_size * sigma) * np.dot(noises.T, advantage)\n",
        "\n",
        "  return params, reward_per_iteration"
      ],
      "metadata": {
        "id": "1T_DpeeOgNr7"
      },
      "execution_count": null,
      "outputs": []
    },
    {
      "cell_type": "code",
      "source": [
        "def reward_function(params):\n",
        "  return -(params[0] ** 2 + 0.1 * (params[1] - 1) ** 2 + 0.5 * (params[2] + 2) ** 2)"
      ],
      "metadata": {
        "id": "xHLcHAcMhkPb"
      },
      "execution_count": null,
      "outputs": []
    },
    {
      "cell_type": "code",
      "source": [
        "best_params, rewards = evolution_strategy(\n",
        "    f=reward_function,\n",
        "    population_size=50,\n",
        "    sigma=0.1,\n",
        "    lr=1e-3,\n",
        "    initial_params=np.random.randn(3),\n",
        "    num_iters=500,\n",
        ")\n",
        "\n",
        "# plot the rewards per iteration\n",
        "plt.plot(rewards)"
      ],
      "metadata": {
        "colab": {
          "base_uri": "https://localhost:8080/",
          "height": 447
        },
        "id": "QRyjYMtyh10W",
        "outputId": "f0ecb4f1-f5de-4460-a1a7-477c4139362c"
      },
      "execution_count": null,
      "outputs": [
        {
          "output_type": "execute_result",
          "data": {
            "text/plain": [
              "[<matplotlib.lines.Line2D at 0x7cc741271690>]"
            ]
          },
          "metadata": {},
          "execution_count": 4
        },
        {
          "output_type": "display_data",
          "data": {
            "text/plain": [
              "<Figure size 640x480 with 1 Axes>"
            ],
            "image/png": "[encoded data removed]"
          },
          "metadata": {}
        }
      ]
    },
    {
      "cell_type": "code",
      "source": [
        "print(\"Final params:\", best_params)"
      ],
      "metadata": {
        "colab": {
          "base_uri": "https://localhost:8080/"
        },
        "id": "lu1arcTLh-aB",
        "outputId": "4523091e-2b25-463f-d5c5-0132496aafde"
      },
      "execution_count": null,
      "outputs": [
        {
          "output_type": "stream",
          "name": "stdout",
          "text": [
            "Final params: [-1.81011192e-03  1.01516863e+00 -2.00143640e+00]\n"
          ]
        }
      ]
    },
    {
      "cell_type": "code",
      "source": [],
      "metadata": {
        "id": "-x0ZZpzZiAOb"
      },
      "execution_count": null,
      "outputs": []
    }
  ]
}