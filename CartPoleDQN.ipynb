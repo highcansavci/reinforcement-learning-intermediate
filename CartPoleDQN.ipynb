{
  "nbformat": 4,
  "nbformat_minor": 0,
  "metadata": {
    "colab": {
      "provenance": [],
      "gpuType": "T4"
    },
    "kernelspec": {
      "name": "python3",
      "display_name": "Python 3"
    },
    "language_info": {
      "name": "python"
    }
  },
  "cells": [
    {
      "cell_type": "code",
      "execution_count": 1,
      "metadata": {
        "colab": {
          "base_uri": "https://localhost:8080/"
        },
        "id": "gWPyBgUXJkpK",
        "outputId": "78102471-4c33-4e55-cf59-0a7f790b12a1"
      },
      "outputs": [
        {
          "output_type": "stream",
          "name": "stdout",
          "text": [
            "Requirement already satisfied: gym==0.25.2 in /usr/local/lib/python3.10/dist-packages (0.25.2)\n",
            "Requirement already satisfied: numpy>=1.18.0 in /usr/local/lib/python3.10/dist-packages (from gym==0.25.2) (1.22.4)\n",
            "Requirement already satisfied: cloudpickle>=1.2.0 in /usr/local/lib/python3.10/dist-packages (from gym==0.25.2) (2.2.1)\n",
            "Requirement already satisfied: gym-notices>=0.0.4 in /usr/local/lib/python3.10/dist-packages (from gym==0.25.2) (0.0.8)\n"
          ]
        }
      ],
      "source": [
        "!pip install --upgrade gym==0.25.2"
      ]
    },
    {
      "cell_type": "code",
      "source": [
        "import torch\n",
        "import torch.optim as optim\n",
        "import torch.nn as nn\n",
        "import torch.nn.functional as F\n",
        "import matplotlib.pyplot as plt\n",
        "import gym\n",
        "import numpy as np\n",
        "from collections import deque"
      ],
      "metadata": {
        "id": "X-RCccMCN3pi"
      },
      "execution_count": 2,
      "outputs": []
    },
    {
      "cell_type": "code",
      "source": [
        "device = torch.device(\"cuda\" if torch.cuda.is_available() else \"cpu\")"
      ],
      "metadata": {
        "id": "Hfww0jC6N9se",
        "colab": {
          "base_uri": "https://localhost:8080/"
        },
        "outputId": "d9ae796e-cc08-44fd-df95-233ccabad66b"
      },
      "execution_count": 3,
      "outputs": [
        {
          "output_type": "stream",
          "name": "stderr",
          "text": [
            "/usr/local/lib/python3.10/dist-packages/ipykernel/ipkernel.py:283: DeprecationWarning: `should_run_async` will not call `transform_cell` automatically in the future. Please pass the result to `transformed_cell` argument and any exception that happen during thetransform in `preprocessing_exc_tuple` in IPython 7.17 and above.\n",
            "  and should_run_async(code)\n"
          ]
        }
      ]
    },
    {
      "cell_type": "code",
      "source": [
        "class DQN(nn.Module):\n",
        "  def __init__(self, state_size, action_size, hidden_size):\n",
        "    super(DQN, self).__init__()\n",
        "    self.dense_layer1 = nn.Linear(state_size, hidden_size)\n",
        "    self.dense_layer2 = nn.Linear(hidden_size, hidden_size)\n",
        "    self.dense_layer3 = nn.Linear(hidden_size, hidden_size)\n",
        "    self.dense_layer4 = nn.Linear(hidden_size, hidden_size)\n",
        "    self.dense_layer5 = nn.Linear(hidden_size, action_size)\n",
        "\n",
        "  def forward(self, X):\n",
        "    X = F.relu(self.dense_layer1(X))\n",
        "    X = F.relu(self.dense_layer2(X))\n",
        "    X = F.relu(self.dense_layer3(X))\n",
        "    X = F.relu(self.dense_layer4(X))\n",
        "    X = self.dense_layer5(X)\n",
        "    return X"
      ],
      "metadata": {
        "id": "xJ7lgHZpmXPa"
      },
      "execution_count": 4,
      "outputs": []
    },
    {
      "cell_type": "code",
      "source": [
        "class DQNAgent:\n",
        "  def __init__(self, state_size, action_size, hidden_size, lr, discount, max_experiences=15000, min_experiences=100, batch_size=32):\n",
        "    self.action_size = action_size\n",
        "    self.dqn = DQN(state_size, action_size, hidden_size).to(device)\n",
        "    self.target_network = DQN(state_size, action_size, hidden_size).to(device)\n",
        "    self.target_network.load_state_dict(self.dqn.state_dict())\n",
        "    self.dqn_optimizer = torch.optim.RMSprop(self.dqn.parameters(), lr=lr)\n",
        "    self.discount = discount\n",
        "    self.replay_buffer = deque()\n",
        "    self.max_experiences = max_experiences\n",
        "    self.min_experiences = min_experiences\n",
        "    self.batch_size = batch_size\n",
        "\n",
        "  def select_action(self, state, epsilon):\n",
        "    with torch.no_grad():\n",
        "      prob = np.random.random()\n",
        "      if prob < 1 - epsilon:\n",
        "        return np.random.choice(np.arange(self.action_size))\n",
        "      else:\n",
        "        input_state = torch.FloatTensor(state).to(device)\n",
        "        action = self.dqn(input_state).max(0)[1].view(-1)\n",
        "        action = int(action)\n",
        "        return action\n",
        "\n",
        "  def add_experience(self, state, action, reward, next_state, done):\n",
        "    if len(self.replay_buffer) >= self.max_experiences:\n",
        "      self.replay_buffer.popleft()\n",
        "    self.replay_buffer.append((state, action, reward, next_state, done))\n",
        "\n",
        "  def train(self):\n",
        "    if len(self.replay_buffer) < self.min_experiences:\n",
        "      return\n",
        "\n",
        "    # randomly select batch\n",
        "    samples = np.random.randint(0, len(self.replay_buffer), size=self.batch_size)\n",
        "    states = []\n",
        "    actions = []\n",
        "    rewards = []\n",
        "    next_states = []\n",
        "    dones = []\n",
        "\n",
        "    for sample in samples:\n",
        "        state, action, reward, next_state, done = self.replay_buffer[sample]\n",
        "        states.append(state)\n",
        "        actions.append(action)\n",
        "        rewards.append(reward)\n",
        "        next_states.append(next_state)\n",
        "        dones.append(done)\n",
        "\n",
        "    state_batch = torch.FloatTensor(np.array(states)).to(device)\n",
        "    next_state_batch = torch.FloatTensor(np.array(next_states)).to(device)\n",
        "    action_batch = torch.LongTensor(np.array(actions).reshape(-1, 1)).to(device)\n",
        "    reward_batch = torch.FloatTensor(np.array(rewards).reshape(-1, 1)).to(device)\n",
        "    done_batch = torch.FloatTensor(1 - np.array(dones).reshape(-1, 1)).to(device)\n",
        "\n",
        "    train_q = self.dqn(state_batch)\n",
        "    train_q = train_q.gather(1, action_batch)\n",
        "\n",
        "    with torch.no_grad():\n",
        "      target_batch = reward_batch + done_batch * self.discount * torch.max(self.dqn(next_state_batch).detach(), dim=1)[0].view(self.batch_size, -1)\n",
        "\n",
        "    dqn_loss = nn.MSELoss()\n",
        "    dqn_loss_val = dqn_loss(train_q, target_batch)\n",
        "    self.dqn_optimizer.zero_grad()\n",
        "    dqn_loss_val.backward()\n",
        "    self.dqn_optimizer.step()\n",
        "\n",
        "    return dqn_loss_val.detach().cpu().numpy()\n",
        "\n",
        "  def update_target_network(self, num_iters, update_every):\n",
        "    if num_iters % update_every == 0:\n",
        "      self.target_network.load_state_dict(self.dqn.state_dict())"
      ],
      "metadata": {
        "id": "Y5y4zCb1oMFS",
        "colab": {
          "base_uri": "https://localhost:8080/"
        },
        "outputId": "04441dde-98eb-4389-ff56-aa228589b149"
      },
      "execution_count": 39,
      "outputs": [
        {
          "output_type": "stream",
          "name": "stderr",
          "text": [
            "/usr/local/lib/python3.10/dist-packages/ipykernel/ipkernel.py:283: DeprecationWarning: `should_run_async` will not call `transform_cell` automatically in the future. Please pass the result to `transformed_cell` argument and any exception that happen during thetransform in `preprocessing_exc_tuple` in IPython 7.17 and above.\n",
            "  and should_run_async(code)\n"
          ]
        }
      ]
    },
    {
      "cell_type": "code",
      "source": [
        "env = gym.make('CartPole-v1')\n",
        "ACTION_SIZE = env.action_space.n\n",
        "STATE_SIZE = env.observation_space.shape[0]"
      ],
      "metadata": {
        "id": "8iiJrLA34g2a",
        "colab": {
          "base_uri": "https://localhost:8080/"
        },
        "outputId": "41685707-a5bf-4955-cbf8-d30a8b9bee88"
      },
      "execution_count": 40,
      "outputs": [
        {
          "output_type": "stream",
          "name": "stderr",
          "text": [
            "/usr/local/lib/python3.10/dist-packages/gym/core.py:317: DeprecationWarning: \u001b[33mWARN: Initializing wrapper in old step API which returns one bool instead of two. It is recommended to set `new_step_api=True` to use new step API. This will be the default behaviour in future.\u001b[0m\n",
            "  deprecation(\n",
            "/usr/local/lib/python3.10/dist-packages/gym/wrappers/step_api_compatibility.py:39: DeprecationWarning: \u001b[33mWARN: Initializing environment in old step API which returns one bool instead of two. It is recommended to set `new_step_api=True` to use new step API. This will be the default behaviour in future.\u001b[0m\n",
            "  deprecation(\n"
          ]
        }
      ]
    },
    {
      "cell_type": "code",
      "source": [
        "# set seed\n",
        "SEED = 31\n",
        "env.seed(SEED)\n",
        "np.random.seed(SEED)\n",
        "torch.manual_seed(SEED)\n",
        "if torch.cuda.is_available():\n",
        "    torch.cuda.manual_seed(SEED)\n",
        "    torch.cuda.manual_seed_all(SEED)"
      ],
      "metadata": {
        "id": "7g3iV1cb4n5q",
        "colab": {
          "base_uri": "https://localhost:8080/"
        },
        "outputId": "623a8999-4fe1-4ead-c8c4-d21c46ae68bf"
      },
      "execution_count": 41,
      "outputs": [
        {
          "output_type": "stream",
          "name": "stderr",
          "text": [
            "/usr/local/lib/python3.10/dist-packages/gym/core.py:256: DeprecationWarning: \u001b[33mWARN: Function `env.seed(seed)` is marked as deprecated and will be removed in the future. Please use `env.reset(seed=seed)` instead.\u001b[0m\n",
            "  deprecation(\n"
          ]
        }
      ]
    },
    {
      "cell_type": "code",
      "source": [
        "# config\n",
        "NUM_EPISODE = 1000 # run agent for this many episodes\n",
        "MIN_EPISODES = 100 # collect data for this many timesteps before training\n",
        "HIDDEN_SIZE = 64 # number of units in NN hidden layers\n",
        "LR = 0.00005 # learning rate for optimizer\n",
        "UPDATE_TARGET_NET_ITER = 1000 # update target network after this many steps\n",
        "BATCH_SIZE = 64 # mini batch size we train network on\n",
        "DISCOUNT_RATE = 0.9 # gamma value\n",
        "\n",
        "EPSILON_START = 1.0 # epsilon start value\n",
        "EPSILON_MIN = 0.01  # epsilon end value\n",
        "EPSILON_DECAY_STEPS = NUM_EPISODE * .15 # decay epsilon over this many episodes\n",
        "EPSILON_STEPS = (EPSILON_START - EPSILON_MIN)/(EPSILON_DECAY_STEPS) # decrement epsilon by this amount every timeste"
      ],
      "metadata": {
        "id": "RMMjWvsH407v"
      },
      "execution_count": 42,
      "outputs": []
    },
    {
      "cell_type": "code",
      "source": [
        "dqn_agent = DQNAgent(STATE_SIZE, ACTION_SIZE, HIDDEN_SIZE, LR, DISCOUNT_RATE)"
      ],
      "metadata": {
        "id": "Jw7bgBNt5ryB"
      },
      "execution_count": 43,
      "outputs": []
    },
    {
      "cell_type": "code",
      "source": [
        "stats_rewards_list = []\n",
        "stats_every = 10\n",
        "total_reward = 0\n",
        "timesteps = 0\n",
        "episode_length = 0\n",
        "epsilon = EPSILON_START\n",
        "\n",
        "for episode in range(NUM_EPISODE):\n",
        "  state = env.reset()\n",
        "  stats_loss = 0\n",
        "\n",
        "  # stopping condition for training if agent reaches the amount of reward\n",
        "  if len(stats_rewards_list) > stats_every and np.mean(stats_rewards_list[-stats_every:],axis=0)[1] > 500:\n",
        "      print(\"Stopping at episode {} with average rewards of {} in last {} episodes\".\n",
        "          format(episode, np.mean(stats_rewards_list[-stats_every:],axis=0)[1], stats_every))\n",
        "      break\n",
        "\n",
        "  while True:\n",
        "    timesteps += 1\n",
        "    action = dqn_agent.select_action(state, epsilon)\n",
        "    next_state, reward, done, _ = env.step(action)\n",
        "    total_reward += reward\n",
        "    episode_length += 1\n",
        "\n",
        "\n",
        "    if done:\n",
        "      next_state = np.zeros(state.shape)\n",
        "      reward = -1\n",
        "      dqn_agent.add_experience(state, action, reward, next_state, done)\n",
        "\n",
        "      stats_rewards_list.append((episode, total_reward, episode_length))\n",
        "      total_reward = 0\n",
        "      episode_length = 0\n",
        "\n",
        "      epsilon -= EPSILON_STEPS\n",
        "      epsilon = max(epsilon, EPSILON_MIN)\n",
        "      if timesteps > MIN_EPISODES and episode % stats_every == 0:\n",
        "        print('Episode: {}'.format(episode),\n",
        "              'Timestep: {}'.format(timesteps),\n",
        "              'Total reward: {:.1f}'.format(np.mean(stats_rewards_list[-stats_every:],axis=0)[1]),\n",
        "              'Episode length: {:.1f}'.format(np.mean(stats_rewards_list[-stats_every:],axis=0)[2]),\n",
        "              'Epsilon: {:.2f}'.format(epsilon))\n",
        "\n",
        "      break\n",
        "\n",
        "    else:\n",
        "      stats_rewards_list.append((episode, total_reward, episode_length))\n",
        "\n",
        "    state = next_state\n",
        "    if timesteps > MIN_EPISODES:\n",
        "      stats_loss = dqn_agent.train()\n",
        "      dqn_agent.update_target_network(timesteps, UPDATE_TARGET_NET_ITER)"
      ],
      "metadata": {
        "colab": {
          "base_uri": "https://localhost:8080/"
        },
        "id": "gYI_dGwJ6d9g",
        "outputId": "c531ffb3-7f71-49e9-bca4-cdec378ce24d"
      },
      "execution_count": 44,
      "outputs": [
        {
          "output_type": "stream",
          "name": "stdout",
          "text": [
            "Episode: 10 Timestep: 104 Total reward: 5.5 Episode length: 5.5 Epsilon: 0.93\n",
            "Episode: 20 Timestep: 211 Total reward: 6.5 Episode length: 6.5 Epsilon: 0.86\n",
            "Episode: 30 Timestep: 310 Total reward: 5.3 Episode length: 5.3 Epsilon: 0.80\n",
            "Episode: 40 Timestep: 412 Total reward: 5.7 Episode length: 5.7 Epsilon: 0.73\n",
            "Episode: 50 Timestep: 523 Total reward: 7.5 Episode length: 7.5 Epsilon: 0.66\n",
            "Episode: 60 Timestep: 650 Total reward: 6.5 Episode length: 6.5 Epsilon: 0.60\n",
            "Episode: 70 Timestep: 786 Total reward: 5.8 Episode length: 5.8 Epsilon: 0.53\n",
            "Episode: 80 Timestep: 923 Total reward: 8.5 Episode length: 8.5 Epsilon: 0.47\n",
            "Episode: 90 Timestep: 1059 Total reward: 17.5 Episode length: 17.5 Epsilon: 0.40\n",
            "Episode: 100 Timestep: 1223 Total reward: 8.5 Episode length: 8.5 Epsilon: 0.33\n",
            "Episode: 110 Timestep: 1400 Total reward: 10.5 Episode length: 10.5 Epsilon: 0.27\n",
            "Episode: 120 Timestep: 1570 Total reward: 5.5 Episode length: 5.5 Epsilon: 0.20\n",
            "Episode: 130 Timestep: 1820 Total reward: 11.5 Episode length: 11.5 Epsilon: 0.14\n",
            "Episode: 140 Timestep: 2051 Total reward: 18.5 Episode length: 18.5 Epsilon: 0.07\n",
            "Episode: 150 Timestep: 2286 Total reward: 22.5 Episode length: 22.5 Epsilon: 0.01\n",
            "Episode: 160 Timestep: 2474 Total reward: 11.5 Episode length: 11.5 Epsilon: 0.01\n",
            "Episode: 170 Timestep: 2679 Total reward: 10.5 Episode length: 10.5 Epsilon: 0.01\n",
            "Episode: 180 Timestep: 2906 Total reward: 11.5 Episode length: 11.5 Epsilon: 0.01\n",
            "Episode: 190 Timestep: 3141 Total reward: 19.5 Episode length: 19.5 Epsilon: 0.01\n",
            "Episode: 200 Timestep: 3376 Total reward: 26.5 Episode length: 26.5 Epsilon: 0.01\n",
            "Episode: 210 Timestep: 3578 Total reward: 19.5 Episode length: 19.5 Epsilon: 0.01\n",
            "Episode: 220 Timestep: 3796 Total reward: 15.5 Episode length: 15.5 Epsilon: 0.01\n",
            "Episode: 230 Timestep: 4009 Total reward: 25.5 Episode length: 25.5 Epsilon: 0.01\n",
            "Episode: 240 Timestep: 4241 Total reward: 12.5 Episode length: 12.5 Epsilon: 0.01\n",
            "Episode: 250 Timestep: 4497 Total reward: 18.5 Episode length: 18.5 Epsilon: 0.01\n",
            "Episode: 260 Timestep: 4695 Total reward: 21.5 Episode length: 21.5 Epsilon: 0.01\n",
            "Episode: 270 Timestep: 4886 Total reward: 17.5 Episode length: 17.5 Epsilon: 0.01\n",
            "Episode: 280 Timestep: 5139 Total reward: 15.5 Episode length: 15.5 Epsilon: 0.01\n",
            "Episode: 290 Timestep: 5345 Total reward: 29.5 Episode length: 29.5 Epsilon: 0.01\n",
            "Episode: 300 Timestep: 5518 Total reward: 7.5 Episode length: 7.5 Epsilon: 0.01\n",
            "Episode: 310 Timestep: 5707 Total reward: 41.5 Episode length: 41.5 Epsilon: 0.01\n",
            "Episode: 320 Timestep: 5928 Total reward: 18.5 Episode length: 18.5 Epsilon: 0.01\n",
            "Episode: 330 Timestep: 6190 Total reward: 21.5 Episode length: 21.5 Epsilon: 0.01\n",
            "Episode: 340 Timestep: 6410 Total reward: 7.5 Episode length: 7.5 Epsilon: 0.01\n",
            "Episode: 350 Timestep: 6624 Total reward: 23.5 Episode length: 23.5 Epsilon: 0.01\n",
            "Episode: 360 Timestep: 6762 Total reward: 10.5 Episode length: 10.5 Epsilon: 0.01\n",
            "Episode: 370 Timestep: 7091 Total reward: 12.5 Episode length: 12.5 Epsilon: 0.01\n",
            "Episode: 380 Timestep: 7302 Total reward: 14.5 Episode length: 14.5 Epsilon: 0.01\n",
            "Episode: 390 Timestep: 7487 Total reward: 14.5 Episode length: 14.5 Epsilon: 0.01\n",
            "Episode: 400 Timestep: 7693 Total reward: 24.5 Episode length: 24.5 Epsilon: 0.01\n",
            "Episode: 410 Timestep: 7917 Total reward: 12.5 Episode length: 12.5 Epsilon: 0.01\n",
            "Episode: 420 Timestep: 8136 Total reward: 34.5 Episode length: 34.5 Epsilon: 0.01\n",
            "Episode: 430 Timestep: 8394 Total reward: 9.5 Episode length: 9.5 Epsilon: 0.01\n",
            "Episode: 440 Timestep: 8597 Total reward: 18.5 Episode length: 18.5 Epsilon: 0.01\n",
            "Episode: 450 Timestep: 8761 Total reward: 7.5 Episode length: 7.5 Epsilon: 0.01\n",
            "Episode: 460 Timestep: 9030 Total reward: 12.5 Episode length: 12.5 Epsilon: 0.01\n",
            "Episode: 470 Timestep: 9225 Total reward: 7.5 Episode length: 7.5 Epsilon: 0.01\n",
            "Episode: 480 Timestep: 9424 Total reward: 10.5 Episode length: 10.5 Epsilon: 0.01\n",
            "Episode: 490 Timestep: 9615 Total reward: 8.5 Episode length: 8.5 Epsilon: 0.01\n",
            "Episode: 500 Timestep: 9845 Total reward: 14.5 Episode length: 14.5 Epsilon: 0.01\n",
            "Episode: 510 Timestep: 10077 Total reward: 6.5 Episode length: 6.5 Epsilon: 0.01\n",
            "Episode: 520 Timestep: 10329 Total reward: 7.5 Episode length: 7.5 Epsilon: 0.01\n",
            "Episode: 530 Timestep: 10620 Total reward: 10.5 Episode length: 10.5 Epsilon: 0.01\n",
            "Episode: 540 Timestep: 10917 Total reward: 21.5 Episode length: 21.5 Epsilon: 0.01\n",
            "Episode: 550 Timestep: 11100 Total reward: 10.5 Episode length: 10.5 Epsilon: 0.01\n",
            "Episode: 560 Timestep: 11441 Total reward: 12.5 Episode length: 12.5 Epsilon: 0.01\n",
            "Episode: 570 Timestep: 11736 Total reward: 22.5 Episode length: 22.5 Epsilon: 0.01\n",
            "Episode: 580 Timestep: 11921 Total reward: 11.5 Episode length: 11.5 Epsilon: 0.01\n",
            "Episode: 590 Timestep: 12133 Total reward: 16.5 Episode length: 16.5 Epsilon: 0.01\n",
            "Episode: 600 Timestep: 12337 Total reward: 7.5 Episode length: 7.5 Epsilon: 0.01\n",
            "Episode: 610 Timestep: 12526 Total reward: 11.5 Episode length: 11.5 Epsilon: 0.01\n",
            "Episode: 620 Timestep: 12703 Total reward: 9.5 Episode length: 9.5 Epsilon: 0.01\n",
            "Episode: 630 Timestep: 12909 Total reward: 36.5 Episode length: 36.5 Epsilon: 0.01\n",
            "Episode: 640 Timestep: 13200 Total reward: 80.5 Episode length: 80.5 Epsilon: 0.01\n",
            "Episode: 650 Timestep: 13416 Total reward: 8.5 Episode length: 8.5 Epsilon: 0.01\n",
            "Episode: 660 Timestep: 13661 Total reward: 27.5 Episode length: 27.5 Epsilon: 0.01\n",
            "Episode: 670 Timestep: 13885 Total reward: 27.5 Episode length: 27.5 Epsilon: 0.01\n",
            "Episode: 680 Timestep: 14095 Total reward: 10.5 Episode length: 10.5 Epsilon: 0.01\n",
            "Episode: 690 Timestep: 14360 Total reward: 15.5 Episode length: 15.5 Epsilon: 0.01\n",
            "Episode: 700 Timestep: 14603 Total reward: 17.5 Episode length: 17.5 Epsilon: 0.01\n",
            "Episode: 710 Timestep: 14815 Total reward: 18.5 Episode length: 18.5 Epsilon: 0.01\n",
            "Episode: 720 Timestep: 15114 Total reward: 7.5 Episode length: 7.5 Epsilon: 0.01\n",
            "Episode: 730 Timestep: 15394 Total reward: 25.5 Episode length: 25.5 Epsilon: 0.01\n",
            "Episode: 740 Timestep: 15601 Total reward: 26.5 Episode length: 26.5 Epsilon: 0.01\n",
            "Episode: 750 Timestep: 15776 Total reward: 18.5 Episode length: 18.5 Epsilon: 0.01\n",
            "Episode: 760 Timestep: 15969 Total reward: 5.5 Episode length: 5.5 Epsilon: 0.01\n",
            "Episode: 770 Timestep: 16194 Total reward: 12.5 Episode length: 12.5 Epsilon: 0.01\n",
            "Episode: 780 Timestep: 16407 Total reward: 23.5 Episode length: 23.5 Epsilon: 0.01\n",
            "Episode: 790 Timestep: 16634 Total reward: 5.5 Episode length: 5.5 Epsilon: 0.01\n",
            "Episode: 800 Timestep: 16824 Total reward: 7.5 Episode length: 7.5 Epsilon: 0.01\n",
            "Episode: 810 Timestep: 17082 Total reward: 17.5 Episode length: 17.5 Epsilon: 0.01\n",
            "Episode: 820 Timestep: 17259 Total reward: 10.5 Episode length: 10.5 Epsilon: 0.01\n",
            "Episode: 830 Timestep: 17413 Total reward: 22.5 Episode length: 22.5 Epsilon: 0.01\n",
            "Episode: 840 Timestep: 17676 Total reward: 29.5 Episode length: 29.5 Epsilon: 0.01\n",
            "Episode: 850 Timestep: 17884 Total reward: 60.5 Episode length: 60.5 Epsilon: 0.01\n",
            "Episode: 860 Timestep: 18080 Total reward: 5.5 Episode length: 5.5 Epsilon: 0.01\n",
            "Episode: 870 Timestep: 18265 Total reward: 15.5 Episode length: 15.5 Epsilon: 0.01\n",
            "Episode: 880 Timestep: 18497 Total reward: 23.5 Episode length: 23.5 Epsilon: 0.01\n",
            "Episode: 890 Timestep: 18664 Total reward: 13.5 Episode length: 13.5 Epsilon: 0.01\n",
            "Episode: 900 Timestep: 18882 Total reward: 13.5 Episode length: 13.5 Epsilon: 0.01\n",
            "Episode: 910 Timestep: 19079 Total reward: 18.5 Episode length: 18.5 Epsilon: 0.01\n",
            "Episode: 920 Timestep: 19313 Total reward: 8.5 Episode length: 8.5 Epsilon: 0.01\n",
            "Episode: 930 Timestep: 19585 Total reward: 5.5 Episode length: 5.5 Epsilon: 0.01\n",
            "Episode: 940 Timestep: 19802 Total reward: 16.5 Episode length: 16.5 Epsilon: 0.01\n",
            "Episode: 950 Timestep: 20017 Total reward: 11.5 Episode length: 11.5 Epsilon: 0.01\n",
            "Episode: 960 Timestep: 20304 Total reward: 47.5 Episode length: 47.5 Epsilon: 0.01\n",
            "Episode: 970 Timestep: 20461 Total reward: 16.5 Episode length: 16.5 Epsilon: 0.01\n",
            "Episode: 980 Timestep: 20671 Total reward: 19.5 Episode length: 19.5 Epsilon: 0.01\n",
            "Episode: 990 Timestep: 20858 Total reward: 14.5 Episode length: 14.5 Epsilon: 0.01\n"
          ]
        }
      ]
    },
    {
      "cell_type": "code",
      "source": [
        "# plot stats\n",
        "def get_running_stat(stat, stat_len):\n",
        "    cum_sum = np.cumsum(np.insert(stat, 0, 0))\n",
        "    return (cum_sum[stat_len:] - cum_sum[:-stat_len]) / stat_len\n",
        "\n",
        "episode, r, l = np.array(stats_rewards_list).T\n",
        "cum_r = get_running_stat(r, 10)\n",
        "cum_l = get_running_stat(l, 10)\n",
        "\n",
        "# plot rewards\n",
        "plt.plot(episode[-len(cum_r):], cum_r)\n",
        "plt.plot(episode, r, alpha=0.5)\n",
        "plt.xlabel('Episode')\n",
        "plt.ylabel('Episode Reward')"
      ],
      "metadata": {
        "id": "SzXHmJEI6i9K",
        "colab": {
          "base_uri": "https://localhost:8080/",
          "height": 467
        },
        "outputId": "7fdd3b87-7717-4354-b294-5e73432d8df7"
      },
      "execution_count": 59,
      "outputs": [
        {
          "output_type": "execute_result",
          "data": {
            "text/plain": [
              "Text(0, 0.5, 'Episode Reward')"
            ]
          },
          "metadata": {},
          "execution_count": 59
        },
        {
          "output_type": "display_data",
          "data": {
            "text/plain": [
              "<Figure size 640x480 with 1 Axes>"
            ],
            "image/png": "[encoded data removed]"
          },
          "metadata": {}
        }
      ]
    },
    {
      "cell_type": "code",
      "source": [
        "# plot episode lengths\n",
        "plt.plot(episode[-len(cum_l):], cum_l)\n",
        "plt.plot(episode, l, alpha=0.5)\n",
        "plt.xlabel('Episode')\n",
        "plt.ylabel('Episode Length')"
      ],
      "metadata": {
        "id": "ZVd7J5yb6j9R",
        "colab": {
          "base_uri": "https://localhost:8080/",
          "height": 467
        },
        "outputId": "4ff44f39-e45c-4f45-d8c6-3fe76836412a"
      },
      "execution_count": 52,
      "outputs": [
        {
          "output_type": "execute_result",
          "data": {
            "text/plain": [
              "Text(0, 0.5, 'Episode Length')"
            ]
          },
          "metadata": {},
          "execution_count": 52
        },
        {
          "output_type": "display_data",
          "data": {
            "text/plain": [
              "<Figure size 640x480 with 1 Axes>"
            ],
            "image/png": "[encoded data removed]"
          },
          "metadata": {}
        }
      ]
    },
    {
      "cell_type": "code",
      "source": [],
      "metadata": {
        "id": "UGmjs53FOIQY"
      },
      "execution_count": null,
      "outputs": []
    }
  ]
}